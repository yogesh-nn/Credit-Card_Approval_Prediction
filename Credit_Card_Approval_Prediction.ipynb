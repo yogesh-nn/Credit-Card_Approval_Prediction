{
  "cells": [
    {
      "cell_type": "markdown",
      "metadata": {
        "id": "2yDOoIYWGMo5"
      },
      "source": [
        "# **Section 1 - Questions to Answer**"
      ]
    },
    {
      "cell_type": "markdown",
      "metadata": {
        "id": "wdAaJXECGOPO"
      },
      "source": [
        "**1. Why is your proposal important in today’s world? How predicting a good client is worthy for a bank?**"
      ]
    },
    {
      "cell_type": "markdown",
      "metadata": {
        "id": "z9GfvafXVLSi"
      },
      "source": [
        "The proposal for implementing data-driven models, such as machine learning models, in the banking industry is important in today's world for several reasons such as -\n",
        "\n",
        "Financial Inclusion, Regulatory Compliance, Competitive Advantage, Cost Reduction, Fraud Detection, Enhanced Customer Experience, Risk Mitigation, Improved Decision Making."
      ]
    },
    {
      "cell_type": "markdown",
      "metadata": {
        "id": "I-n4ROLtGTbd"
      },
      "source": [
        "**2. How is it going to impact the banking sector?**"
      ]
    },
    {
      "cell_type": "markdown",
      "metadata": {
        "id": "WaDunQclWNIa"
      },
      "source": [
        "The impact of data-driven models on the banking sector from Machine Learning is multifaceted, with benefits ranging from improved risk assessment and operational efficiency to enhanced customer experiences and the development of innovative financial services. As technology continues to evolve, data-driven approaches will play a central role in shaping the future of banking."
      ]
    },
    {
      "cell_type": "markdown",
      "metadata": {
        "id": "5Fe2oNMAGZ5g"
      },
      "source": [
        "**3. If any, what is the gap in the knowledge or how your proposed method can be helpful if required in future for any bank in India.**"
      ]
    },
    {
      "cell_type": "markdown",
      "metadata": {
        "id": "c2injOxPW3nE"
      },
      "source": [
        "Using data-driven methods and advanced technology can help banks in India become better at making decisions and serving their customers. However, there are some things to keep in mind:\n",
        "\n",
        "\n",
        "\n",
        "1. Good Data: Banks need to make sure that the information they use for these methods is accurate and complete.\n",
        "\n",
        "2. Privacy and Security: Banks must protect their customers' information and follow the rules about data privacy.\n",
        "\n",
        "3. Costs and Benefits: Using data can cost money, so banks need to make sure it's worth it in the long run.\n",
        "\n",
        "4. Staying Safe: Banks must protect their computer systems and customer data from hackers and cyberattacks.\n",
        "\n",
        "5. Technology and Skills: Some banks may need to invest in better technology and hire people who know how to use it.\n",
        "\n",
        "Even though there are challenges, using data in smart ways can help banks do a better job of serving their customers and staying competitive in the modern world."
      ]
    },
    {
      "cell_type": "markdown",
      "metadata": {
        "id": "FvKNn5QzGdSF"
      },
      "source": [
        "# **Section 2 -Initial Hypothesis**"
      ]
    },
    {
      "cell_type": "markdown",
      "metadata": {
        "id": "0S6d6Ct_GiZv"
      },
      "source": [
        "**1. Here you have to make some assumptions based on the questions you want to address based on the DA track or ML track.**"
      ]
    },
    {
      "cell_type": "markdown",
      "metadata": {
        "id": "9qpEKoAxGmV_"
      },
      "source": [
        "1. If DA track please aim to identify patterns in the data and important features that may impact a ML model.\n",
        "\n"
      ]
    },
    {
      "cell_type": "markdown",
      "metadata": {
        "id": "d--TpyjcYNhP"
      },
      "source": [
        "Data analysis (DA) plays a crucial role in preparing data for machine learning (ML) models and identifying patterns and important features that can impact model performance. It helps you understand your data, clean it, identify patterns, select relevant features, and prepare the data for model training. Effective data analysis is often the foundation for building accurate and robust machine learning models."
      ]
    },
    {
      "cell_type": "markdown",
      "metadata": {
        "id": "ioowDLNfGpsm"
      },
      "source": [
        "2. If ML track please perform part ‘i’ as well as multiple machine learning models, perform all required steps to check if there is any assumption and justify your model. Why is your model better than any other possible model? Please justify it by relevant cost functions and if possible by any graph.\n",
        "\n"
      ]
    },
    {
      "cell_type": "markdown",
      "metadata": {
        "id": "0RnvFgbPY4ty"
      },
      "source": [
        "There is no one-size-fits-all answer to which model is the \"best.\" The choice of model should be based on a careful evaluation of these factors and the specific requirements of your project. It's often a good practice to experiment with multiple models, perform rigorous testing and validation, and choose the model that best meets your objectives and constraints."
      ]
    },
    {
      "cell_type": "markdown",
      "metadata": {
        "id": "8-lKKYVdGvKv"
      },
      "source": [
        "**2. From step 1, you may see some relationship that you want to explore and will develop a belief about data.**"
      ]
    },
    {
      "cell_type": "markdown",
      "metadata": {
        "id": "tUIU_EwOGzEl"
      },
      "source": [
        "# **Section 3 - Data analysis approach**"
      ]
    },
    {
      "cell_type": "markdown",
      "metadata": {
        "id": "RFDNl6OfG0HH"
      },
      "source": [
        "1. What approach are you going to take in order to prove or disprove your hypothesis?"
      ]
    },
    {
      "cell_type": "markdown",
      "metadata": {
        "id": "VcJ9PmY3ZZln"
      },
      "source": [
        "As an AI language model, I don't have personal hypotheses or conduct experiments. The specific approach you take will depend on your research question and the type of data you have. It's important to follow accepted scientific and statistical practices to ensure the validity and reliability of your findings.\n",
        "\n"
      ]
    },
    {
      "cell_type": "markdown",
      "metadata": {
        "id": "kLsbr3SEG25x"
      },
      "source": [
        "2. What feature engineering techniques will be relevant to your project?"
      ]
    },
    {
      "cell_type": "markdown",
      "metadata": {
        "id": "AfvzR7NLaGtL"
      },
      "source": [
        "To determine the relevant feature engineering techniques for your project, it's essential to understand the specific nature of your data, the problem I am trying to solve, and the machine learning algorithms I plan to use. I have used Feature Engineering techniques in this project are:\n",
        "\n",
        "* Handling Missing Data   \n",
        "* Encoding Categorical Variables\n",
        "* Feature Scaling"
      ]
    },
    {
      "cell_type": "markdown",
      "metadata": {
        "id": "2i0OPfYxG6Kp"
      },
      "source": [
        "3. Please justify your data analysis approach."
      ]
    },
    {
      "cell_type": "markdown",
      "metadata": {
        "id": "VqAWHin-bNBh"
      },
      "source": [
        "First, I have imported the Libraries, then, imported the datasets. After that, I took care of the missing data form the dataset. Then, I splited the dataset into X and y.\n",
        "Then, I encoded the categorical data.\n",
        "After endoding, I splited the dataset into the Training Set and Test Set. Soon, I did Feature Scaling. After feature scaling, I trained the dataset with various Models like Logistic Regression Classifier, Kernel SVM model, SVM Model, K-NN Model, Naive Bayes Model, Random Forest Classification Model and Decision Tree Classification Model. Then, I predicted all the Test Set Results and did the Confusion Matrix Analysis. Thus, I then found the best fit Model for this project."
      ]
    },
    {
      "cell_type": "markdown",
      "metadata": {
        "id": "YV8XY4btG80X"
      },
      "source": [
        "4. Identify important patterns in your data using the EDA approach to justify your findings."
      ]
    },
    {
      "cell_type": "markdown",
      "metadata": {
        "id": "whIIMWpVG_Fd"
      },
      "source": [
        "# **Section 4 - Machine learning approach**"
      ]
    },
    {
      "cell_type": "markdown",
      "metadata": {
        "id": "vCBmHTbFHBx1"
      },
      "source": [
        "1. What method will you use for machine learning based predictions for credit card approval?\n",
        "\n"
      ]
    },
    {
      "cell_type": "markdown",
      "metadata": {
        "id": "BBc5_rwuiJDq"
      },
      "source": [
        "For making predictions for credit card approval using machine learning, several methods and algorithms can be applied. The choice of method depends on factors like the nature of the data, the specific problem, and the desired outcome. I have use for ML based predictions for Credit Card Approval are :\n",
        "* Random Forest Classification Model\n",
        "* Naive Bayes Model\n",
        "* K-NN Model\n",
        "* Kernel SVM Model\n",
        "* Decision Tree Classification\n",
        "* Logistic Regression"
      ]
    },
    {
      "cell_type": "markdown",
      "metadata": {
        "id": "pUAp7WcFHFHQ"
      },
      "source": [
        "2. Please justify the most appropriate model."
      ]
    },
    {
      "cell_type": "markdown",
      "metadata": {
        "id": "NsIKMpR_dpjX"
      },
      "source": [
        "Random Forest Classification Model has the Highest Confusion Matrix Accuracy i.e., 90% ...\n",
        "Thus, this Model is the most appropriate among others."
      ]
    },
    {
      "cell_type": "markdown",
      "metadata": {
        "id": "NjRZZOYzHHZu"
      },
      "source": [
        "3. Please perform necessary steps required to improve the accuracy of your model."
      ]
    },
    {
      "cell_type": "markdown",
      "metadata": {
        "id": "99OWhEJQeetn"
      },
      "source": [
        "Improving the accuracy of a machine learning model involves several steps and strategies. While I can provide a general framework, it's important to note that the specific actions you should take depend on the type of model you're using, the nature of your data, and the current state of your model's performance.\n",
        "\n",
        "I have performed the most necessary steps which are required to improve the accuracy of the model are Data Cleaning, Handling the Missing Data, Feature Scaling, encoding the categorical data."
      ]
    },
    {
      "cell_type": "markdown",
      "metadata": {
        "id": "EJW9t3T-HKzx"
      },
      "source": [
        "4. Please compare all models (at least 4  models)."
      ]
    },
    {
      "cell_type": "markdown",
      "metadata": {
        "id": "UkLJxT9RfKy8"
      },
      "source": [
        "1. Logistic Regression Classification Model-\n",
        "* The Accuracy Score of this model = 90%\n",
        "\n",
        "2. Decision Tree Classification model -\n",
        "* The Accuracy Score of this model = 88.70967741935484%\n",
        "\n",
        "\n",
        "3. Kernel SVM Model -\n",
        "* The Accuracy Score of this model = 90%\n",
        "\n",
        "\n",
        "4. SVM model -\n",
        "* The Accuracy Score of this model = 89.6774193548387%\n",
        "\n",
        "\n",
        "5. K-NN Model -\n",
        "* The Accuracy Score of this model = 85.48387096774194%\n",
        "\n",
        "\n",
        "6. Naive Bayes Model -\n",
        "* The Accuracy Score of this model = 89.03225806451613%\n",
        "\n",
        "\n",
        "7. Random Forest Classification Model -\n",
        "* The Accuracy Score of this model = 92.25806451612903%\n"
      ]
    },
    {
      "cell_type": "markdown",
      "metadata": {
        "id": "KugK5hpkKEny"
      },
      "source": [
        "# **Importing the Libraries :**"
      ]
    },
    {
      "cell_type": "code",
      "execution_count": 1,
      "metadata": {
        "id": "8rlKrtc1JR2U"
      },
      "outputs": [],
      "source": [
        "import matplotlib.pyplot as plt\n",
        "import pandas as pd\n",
        "import numpy as np"
      ]
    },
    {
      "cell_type": "markdown",
      "metadata": {
        "id": "psZp8vXdKRSA"
      },
      "source": [
        "# **Importing the Datasets :**"
      ]
    },
    {
      "cell_type": "code",
      "execution_count": 2,
      "metadata": {
        "id": "g2P9ABTMKXGf"
      },
      "outputs": [],
      "source": [
        "ccard = pd.read_csv(\"Credit_card.csv\")\n",
        "ccard_label = pd.read_csv(\"Credit_card_label.csv\")\n",
        "cc_merged = pd.merge(ccard, ccard_label, how='outer', on='Ind_ID')"
      ]
    },
    {
      "cell_type": "code",
      "execution_count": 3,
      "metadata": {
        "colab": {
          "base_uri": "https://localhost:8080/"
        },
        "id": "9BituTfnLL2c",
        "outputId": "19f0dffc-966c-425b-edca-a0c58b650c2b"
      },
      "outputs": [
        {
          "name": "stdout",
          "output_type": "stream",
          "text": [
            "<class 'pandas.core.frame.DataFrame'>\n",
            "Int64Index: 1548 entries, 0 to 1547\n",
            "Data columns (total 19 columns):\n",
            " #   Column           Non-Null Count  Dtype  \n",
            "---  ------           --------------  -----  \n",
            " 0   Ind_ID           1548 non-null   int64  \n",
            " 1   GENDER           1541 non-null   object \n",
            " 2   Car_Owner        1548 non-null   object \n",
            " 3   Propert_Owner    1548 non-null   object \n",
            " 4   CHILDREN         1548 non-null   int64  \n",
            " 5   Annual_income    1525 non-null   float64\n",
            " 6   Type_Income      1548 non-null   object \n",
            " 7   EDUCATION        1548 non-null   object \n",
            " 8   Marital_status   1548 non-null   object \n",
            " 9   Housing_type     1548 non-null   object \n",
            " 10  Birthday_count   1526 non-null   float64\n",
            " 11  Employed_days    1548 non-null   int64  \n",
            " 12  Mobile_phone     1548 non-null   int64  \n",
            " 13  Work_Phone       1548 non-null   int64  \n",
            " 14  Phone            1548 non-null   int64  \n",
            " 15  EMAIL_ID         1548 non-null   int64  \n",
            " 16  Type_Occupation  1060 non-null   object \n",
            " 17  Family_Members   1548 non-null   int64  \n",
            " 18  label            1548 non-null   int64  \n",
            "dtypes: float64(2), int64(9), object(8)\n",
            "memory usage: 241.9+ KB\n"
          ]
        }
      ],
      "source": [
        "cc_merged.info()"
      ]
    },
    {
      "cell_type": "markdown",
      "metadata": {
        "id": "uGK7Wz8NQkGq"
      },
      "source": [
        "# **Taking Care of Missing Data**"
      ]
    },
    {
      "cell_type": "code",
      "execution_count": 4,
      "metadata": {
        "colab": {
          "base_uri": "https://localhost:8080/"
        },
        "id": "_JNiCe6EQoAV",
        "outputId": "3edbeb6d-dd5a-4c91-d166-76d6cd55b465"
      },
      "outputs": [
        {
          "name": "stdout",
          "output_type": "stream",
          "text": [
            "Ind_ID               0\n",
            "GENDER               7\n",
            "Car_Owner            0\n",
            "Propert_Owner        0\n",
            "CHILDREN             0\n",
            "Annual_income       23\n",
            "Type_Income          0\n",
            "EDUCATION            0\n",
            "Marital_status       0\n",
            "Housing_type         0\n",
            "Birthday_count      22\n",
            "Employed_days        0\n",
            "Mobile_phone         0\n",
            "Work_Phone           0\n",
            "Phone                0\n",
            "EMAIL_ID             0\n",
            "Type_Occupation    488\n",
            "Family_Members       0\n",
            "label                0\n",
            "dtype: int64\n"
          ]
        }
      ],
      "source": [
        "# Check for missing values in each column\n",
        "missing_data = cc_merged.isnull().sum()\n",
        "print(missing_data)"
      ]
    },
    {
      "cell_type": "code",
      "execution_count": 5,
      "metadata": {
        "id": "mIcjiufTTH5n"
      },
      "outputs": [],
      "source": [
        "cc_merged['GENDER'].fillna(cc_merged['GENDER'].mode()[0], inplace=True)"
      ]
    },
    {
      "cell_type": "code",
      "execution_count": 6,
      "metadata": {
        "id": "GiBYAXBAUvG5"
      },
      "outputs": [],
      "source": [
        "mean_income = cc_merged['Annual_income'].mean()\n",
        "cc_merged['Annual_income'].fillna(mean_income, inplace=True)"
      ]
    },
    {
      "cell_type": "code",
      "execution_count": 7,
      "metadata": {
        "id": "irjTPnhNUxHh"
      },
      "outputs": [],
      "source": [
        "cc_merged['Type_Occupation'].fillna('Unknown', inplace=True)"
      ]
    },
    {
      "cell_type": "code",
      "execution_count": 8,
      "metadata": {
        "id": "PQgZ1-qeU1wu"
      },
      "outputs": [],
      "source": [
        "mean_birthday_count = cc_merged['Birthday_count'].mean()\n",
        "cc_merged['Birthday_count'].fillna(mean_income, inplace=True)"
      ]
    },
    {
      "cell_type": "code",
      "execution_count": 9,
      "metadata": {
        "id": "knSF9dkTaBDX"
      },
      "outputs": [],
      "source": [
        "cc_merged.replace('\\W','',regex=True, inplace=True)"
      ]
    },
    {
      "cell_type": "code",
      "execution_count": 10,
      "metadata": {
        "colab": {
          "base_uri": "https://localhost:8080/"
        },
        "id": "yasTPPS7UKYu",
        "outputId": "ae6d5879-7e3b-4644-e863-e4c3fcec565e"
      },
      "outputs": [
        {
          "name": "stdout",
          "output_type": "stream",
          "text": [
            "Ind_ID             0\n",
            "GENDER             0\n",
            "Car_Owner          0\n",
            "Propert_Owner      0\n",
            "CHILDREN           0\n",
            "Annual_income      0\n",
            "Type_Income        0\n",
            "EDUCATION          0\n",
            "Marital_status     0\n",
            "Housing_type       0\n",
            "Birthday_count     0\n",
            "Employed_days      0\n",
            "Mobile_phone       0\n",
            "Work_Phone         0\n",
            "Phone              0\n",
            "EMAIL_ID           0\n",
            "Type_Occupation    0\n",
            "Family_Members     0\n",
            "label              0\n",
            "dtype: int64\n"
          ]
        }
      ],
      "source": [
        "# Check for missing values in each column\n",
        "missing_data = cc_merged.isnull().sum()\n",
        "print(missing_data)"
      ]
    },
    {
      "cell_type": "code",
      "execution_count": 11,
      "metadata": {
        "colab": {
          "base_uri": "https://localhost:8080/",
          "height": 1000
        },
        "id": "XGVy6uiBl0Ix",
        "outputId": "d49f802c-2ba4-4378-ec30-b450691acd90"
      },
      "outputs": [
        {
          "data": {
            "text/html": [
              "\n",
              "  <div id=\"df-f100b500-af12-4377-88e6-da2c87b9f49c\" class=\"colab-df-container\">\n",
              "    <div>\n",
              "<style scoped>\n",
              "    .dataframe tbody tr th:only-of-type {\n",
              "        vertical-align: middle;\n",
              "    }\n",
              "\n",
              "    .dataframe tbody tr th {\n",
              "        vertical-align: top;\n",
              "    }\n",
              "\n",
              "    .dataframe thead th {\n",
              "        text-align: right;\n",
              "    }\n",
              "</style>\n",
              "<table border=\"1\" class=\"dataframe\">\n",
              "  <thead>\n",
              "    <tr style=\"text-align: right;\">\n",
              "      <th></th>\n",
              "      <th>Ind_ID</th>\n",
              "      <th>GENDER</th>\n",
              "      <th>Car_Owner</th>\n",
              "      <th>Propert_Owner</th>\n",
              "      <th>CHILDREN</th>\n",
              "      <th>Annual_income</th>\n",
              "      <th>Type_Income</th>\n",
              "      <th>EDUCATION</th>\n",
              "      <th>Marital_status</th>\n",
              "      <th>Housing_type</th>\n",
              "      <th>Birthday_count</th>\n",
              "      <th>Employed_days</th>\n",
              "      <th>Mobile_phone</th>\n",
              "      <th>Work_Phone</th>\n",
              "      <th>Phone</th>\n",
              "      <th>EMAIL_ID</th>\n",
              "      <th>Type_Occupation</th>\n",
              "      <th>Family_Members</th>\n",
              "      <th>label</th>\n",
              "    </tr>\n",
              "  </thead>\n",
              "  <tbody>\n",
              "    <tr>\n",
              "      <th>0</th>\n",
              "      <td>5008827</td>\n",
              "      <td>M</td>\n",
              "      <td>Y</td>\n",
              "      <td>Y</td>\n",
              "      <td>0</td>\n",
              "      <td>180000.00000</td>\n",
              "      <td>Pensioner</td>\n",
              "      <td>Highereducation</td>\n",
              "      <td>Married</td>\n",
              "      <td>Houseapartment</td>\n",
              "      <td>-18772.00000</td>\n",
              "      <td>365243</td>\n",
              "      <td>1</td>\n",
              "      <td>0</td>\n",
              "      <td>0</td>\n",
              "      <td>0</td>\n",
              "      <td>Unknown</td>\n",
              "      <td>2</td>\n",
              "      <td>1</td>\n",
              "    </tr>\n",
              "    <tr>\n",
              "      <th>1</th>\n",
              "      <td>5009744</td>\n",
              "      <td>F</td>\n",
              "      <td>Y</td>\n",
              "      <td>N</td>\n",
              "      <td>0</td>\n",
              "      <td>315000.00000</td>\n",
              "      <td>Commercialassociate</td>\n",
              "      <td>Highereducation</td>\n",
              "      <td>Married</td>\n",
              "      <td>Houseapartment</td>\n",
              "      <td>-13557.00000</td>\n",
              "      <td>-586</td>\n",
              "      <td>1</td>\n",
              "      <td>1</td>\n",
              "      <td>1</td>\n",
              "      <td>0</td>\n",
              "      <td>Unknown</td>\n",
              "      <td>2</td>\n",
              "      <td>1</td>\n",
              "    </tr>\n",
              "    <tr>\n",
              "      <th>2</th>\n",
              "      <td>5009746</td>\n",
              "      <td>F</td>\n",
              "      <td>Y</td>\n",
              "      <td>N</td>\n",
              "      <td>0</td>\n",
              "      <td>315000.00000</td>\n",
              "      <td>Commercialassociate</td>\n",
              "      <td>Highereducation</td>\n",
              "      <td>Married</td>\n",
              "      <td>Houseapartment</td>\n",
              "      <td>191399.32623</td>\n",
              "      <td>-586</td>\n",
              "      <td>1</td>\n",
              "      <td>1</td>\n",
              "      <td>1</td>\n",
              "      <td>0</td>\n",
              "      <td>Unknown</td>\n",
              "      <td>2</td>\n",
              "      <td>1</td>\n",
              "    </tr>\n",
              "    <tr>\n",
              "      <th>3</th>\n",
              "      <td>5009749</td>\n",
              "      <td>F</td>\n",
              "      <td>Y</td>\n",
              "      <td>N</td>\n",
              "      <td>0</td>\n",
              "      <td>191399.32623</td>\n",
              "      <td>Commercialassociate</td>\n",
              "      <td>Highereducation</td>\n",
              "      <td>Married</td>\n",
              "      <td>Houseapartment</td>\n",
              "      <td>-13557.00000</td>\n",
              "      <td>-586</td>\n",
              "      <td>1</td>\n",
              "      <td>1</td>\n",
              "      <td>1</td>\n",
              "      <td>0</td>\n",
              "      <td>Unknown</td>\n",
              "      <td>2</td>\n",
              "      <td>1</td>\n",
              "    </tr>\n",
              "    <tr>\n",
              "      <th>4</th>\n",
              "      <td>5009752</td>\n",
              "      <td>F</td>\n",
              "      <td>Y</td>\n",
              "      <td>N</td>\n",
              "      <td>0</td>\n",
              "      <td>315000.00000</td>\n",
              "      <td>Commercialassociate</td>\n",
              "      <td>Highereducation</td>\n",
              "      <td>Married</td>\n",
              "      <td>Houseapartment</td>\n",
              "      <td>-13557.00000</td>\n",
              "      <td>-586</td>\n",
              "      <td>1</td>\n",
              "      <td>1</td>\n",
              "      <td>1</td>\n",
              "      <td>0</td>\n",
              "      <td>Unknown</td>\n",
              "      <td>2</td>\n",
              "      <td>1</td>\n",
              "    </tr>\n",
              "    <tr>\n",
              "      <th>5</th>\n",
              "      <td>5009753</td>\n",
              "      <td>F</td>\n",
              "      <td>Y</td>\n",
              "      <td>N</td>\n",
              "      <td>0</td>\n",
              "      <td>315000.00000</td>\n",
              "      <td>Pensioner</td>\n",
              "      <td>Highereducation</td>\n",
              "      <td>Married</td>\n",
              "      <td>Houseapartment</td>\n",
              "      <td>-13557.00000</td>\n",
              "      <td>-586</td>\n",
              "      <td>1</td>\n",
              "      <td>1</td>\n",
              "      <td>1</td>\n",
              "      <td>0</td>\n",
              "      <td>Unknown</td>\n",
              "      <td>2</td>\n",
              "      <td>1</td>\n",
              "    </tr>\n",
              "    <tr>\n",
              "      <th>6</th>\n",
              "      <td>5009754</td>\n",
              "      <td>F</td>\n",
              "      <td>Y</td>\n",
              "      <td>N</td>\n",
              "      <td>0</td>\n",
              "      <td>315000.00000</td>\n",
              "      <td>Commercialassociate</td>\n",
              "      <td>Highereducation</td>\n",
              "      <td>Married</td>\n",
              "      <td>Houseapartment</td>\n",
              "      <td>-13557.00000</td>\n",
              "      <td>-586</td>\n",
              "      <td>1</td>\n",
              "      <td>1</td>\n",
              "      <td>1</td>\n",
              "      <td>0</td>\n",
              "      <td>Unknown</td>\n",
              "      <td>2</td>\n",
              "      <td>1</td>\n",
              "    </tr>\n",
              "    <tr>\n",
              "      <th>7</th>\n",
              "      <td>5009894</td>\n",
              "      <td>F</td>\n",
              "      <td>N</td>\n",
              "      <td>N</td>\n",
              "      <td>0</td>\n",
              "      <td>180000.00000</td>\n",
              "      <td>Pensioner</td>\n",
              "      <td>Secondarysecondaryspecial</td>\n",
              "      <td>Married</td>\n",
              "      <td>Houseapartment</td>\n",
              "      <td>-22134.00000</td>\n",
              "      <td>365243</td>\n",
              "      <td>1</td>\n",
              "      <td>0</td>\n",
              "      <td>0</td>\n",
              "      <td>0</td>\n",
              "      <td>Unknown</td>\n",
              "      <td>2</td>\n",
              "      <td>1</td>\n",
              "    </tr>\n",
              "    <tr>\n",
              "      <th>8</th>\n",
              "      <td>5010864</td>\n",
              "      <td>M</td>\n",
              "      <td>Y</td>\n",
              "      <td>Y</td>\n",
              "      <td>1</td>\n",
              "      <td>450000.00000</td>\n",
              "      <td>Commercialassociate</td>\n",
              "      <td>Secondarysecondaryspecial</td>\n",
              "      <td>Married</td>\n",
              "      <td>Houseapartment</td>\n",
              "      <td>-18173.00000</td>\n",
              "      <td>-678</td>\n",
              "      <td>1</td>\n",
              "      <td>0</td>\n",
              "      <td>1</td>\n",
              "      <td>1</td>\n",
              "      <td>Corestaff</td>\n",
              "      <td>3</td>\n",
              "      <td>1</td>\n",
              "    </tr>\n",
              "    <tr>\n",
              "      <th>9</th>\n",
              "      <td>5010868</td>\n",
              "      <td>M</td>\n",
              "      <td>Y</td>\n",
              "      <td>Y</td>\n",
              "      <td>1</td>\n",
              "      <td>450000.00000</td>\n",
              "      <td>Pensioner</td>\n",
              "      <td>Secondarysecondaryspecial</td>\n",
              "      <td>Married</td>\n",
              "      <td>Houseapartment</td>\n",
              "      <td>-18173.00000</td>\n",
              "      <td>-678</td>\n",
              "      <td>1</td>\n",
              "      <td>0</td>\n",
              "      <td>1</td>\n",
              "      <td>1</td>\n",
              "      <td>Corestaff</td>\n",
              "      <td>3</td>\n",
              "      <td>1</td>\n",
              "    </tr>\n",
              "    <tr>\n",
              "      <th>10</th>\n",
              "      <td>5010869</td>\n",
              "      <td>M</td>\n",
              "      <td>Y</td>\n",
              "      <td>Y</td>\n",
              "      <td>1</td>\n",
              "      <td>450000.00000</td>\n",
              "      <td>Commercialassociate</td>\n",
              "      <td>Secondarysecondaryspecial</td>\n",
              "      <td>Singlenotmarried</td>\n",
              "      <td>Houseapartment</td>\n",
              "      <td>-18173.00000</td>\n",
              "      <td>-678</td>\n",
              "      <td>1</td>\n",
              "      <td>0</td>\n",
              "      <td>1</td>\n",
              "      <td>1</td>\n",
              "      <td>Corestaff</td>\n",
              "      <td>1</td>\n",
              "      <td>1</td>\n",
              "    </tr>\n",
              "    <tr>\n",
              "      <th>11</th>\n",
              "      <td>5018498</td>\n",
              "      <td>F</td>\n",
              "      <td>Y</td>\n",
              "      <td>Y</td>\n",
              "      <td>0</td>\n",
              "      <td>90000.00000</td>\n",
              "      <td>Working</td>\n",
              "      <td>Secondarysecondaryspecial</td>\n",
              "      <td>Married</td>\n",
              "      <td>Houseapartment</td>\n",
              "      <td>-18950.00000</td>\n",
              "      <td>-1002</td>\n",
              "      <td>1</td>\n",
              "      <td>1</td>\n",
              "      <td>1</td>\n",
              "      <td>0</td>\n",
              "      <td>Cookingstaff</td>\n",
              "      <td>2</td>\n",
              "      <td>1</td>\n",
              "    </tr>\n",
              "    <tr>\n",
              "      <th>12</th>\n",
              "      <td>5018501</td>\n",
              "      <td>F</td>\n",
              "      <td>Y</td>\n",
              "      <td>Y</td>\n",
              "      <td>0</td>\n",
              "      <td>191399.32623</td>\n",
              "      <td>Working</td>\n",
              "      <td>Secondarysecondaryspecial</td>\n",
              "      <td>Married</td>\n",
              "      <td>Houseapartment</td>\n",
              "      <td>-18950.00000</td>\n",
              "      <td>-1002</td>\n",
              "      <td>1</td>\n",
              "      <td>1</td>\n",
              "      <td>1</td>\n",
              "      <td>0</td>\n",
              "      <td>Cookingstaff</td>\n",
              "      <td>2</td>\n",
              "      <td>1</td>\n",
              "    </tr>\n",
              "    <tr>\n",
              "      <th>13</th>\n",
              "      <td>5018503</td>\n",
              "      <td>F</td>\n",
              "      <td>Y</td>\n",
              "      <td>Y</td>\n",
              "      <td>0</td>\n",
              "      <td>90000.00000</td>\n",
              "      <td>Working</td>\n",
              "      <td>Secondarysecondaryspecial</td>\n",
              "      <td>Married</td>\n",
              "      <td>Houseapartment</td>\n",
              "      <td>-18950.00000</td>\n",
              "      <td>-1002</td>\n",
              "      <td>1</td>\n",
              "      <td>1</td>\n",
              "      <td>1</td>\n",
              "      <td>0</td>\n",
              "      <td>Cookingstaff</td>\n",
              "      <td>2</td>\n",
              "      <td>1</td>\n",
              "    </tr>\n",
              "    <tr>\n",
              "      <th>14</th>\n",
              "      <td>5021303</td>\n",
              "      <td>M</td>\n",
              "      <td>N</td>\n",
              "      <td>N</td>\n",
              "      <td>1</td>\n",
              "      <td>472500.00000</td>\n",
              "      <td>Pensioner</td>\n",
              "      <td>Highereducation</td>\n",
              "      <td>Married</td>\n",
              "      <td>Withparents</td>\n",
              "      <td>-8907.00000</td>\n",
              "      <td>-913</td>\n",
              "      <td>1</td>\n",
              "      <td>0</td>\n",
              "      <td>0</td>\n",
              "      <td>1</td>\n",
              "      <td>Unknown</td>\n",
              "      <td>3</td>\n",
              "      <td>1</td>\n",
              "    </tr>\n",
              "    <tr>\n",
              "      <th>15</th>\n",
              "      <td>5021310</td>\n",
              "      <td>M</td>\n",
              "      <td>N</td>\n",
              "      <td>Y</td>\n",
              "      <td>0</td>\n",
              "      <td>270000.00000</td>\n",
              "      <td>Working</td>\n",
              "      <td>Secondarysecondaryspecial</td>\n",
              "      <td>Married</td>\n",
              "      <td>Houseapartment</td>\n",
              "      <td>-16896.00000</td>\n",
              "      <td>-248</td>\n",
              "      <td>1</td>\n",
              "      <td>0</td>\n",
              "      <td>0</td>\n",
              "      <td>0</td>\n",
              "      <td>Laborers</td>\n",
              "      <td>2</td>\n",
              "      <td>1</td>\n",
              "    </tr>\n",
              "    <tr>\n",
              "      <th>16</th>\n",
              "      <td>5021314</td>\n",
              "      <td>M</td>\n",
              "      <td>N</td>\n",
              "      <td>Y</td>\n",
              "      <td>0</td>\n",
              "      <td>270000.00000</td>\n",
              "      <td>Working</td>\n",
              "      <td>Secondarysecondaryspecial</td>\n",
              "      <td>Singlenotmarried</td>\n",
              "      <td>Houseapartment</td>\n",
              "      <td>-16896.00000</td>\n",
              "      <td>-248</td>\n",
              "      <td>1</td>\n",
              "      <td>0</td>\n",
              "      <td>0</td>\n",
              "      <td>0</td>\n",
              "      <td>Laborers</td>\n",
              "      <td>2</td>\n",
              "      <td>1</td>\n",
              "    </tr>\n",
              "    <tr>\n",
              "      <th>17</th>\n",
              "      <td>5021430</td>\n",
              "      <td>F</td>\n",
              "      <td>N</td>\n",
              "      <td>Y</td>\n",
              "      <td>0</td>\n",
              "      <td>126000.00000</td>\n",
              "      <td>Commercialassociate</td>\n",
              "      <td>Highereducation</td>\n",
              "      <td>Singlenotmarried</td>\n",
              "      <td>Houseapartment</td>\n",
              "      <td>-18907.00000</td>\n",
              "      <td>-2470</td>\n",
              "      <td>1</td>\n",
              "      <td>0</td>\n",
              "      <td>0</td>\n",
              "      <td>0</td>\n",
              "      <td>Salesstaff</td>\n",
              "      <td>1</td>\n",
              "      <td>1</td>\n",
              "    </tr>\n",
              "    <tr>\n",
              "      <th>18</th>\n",
              "      <td>5021431</td>\n",
              "      <td>F</td>\n",
              "      <td>N</td>\n",
              "      <td>Y</td>\n",
              "      <td>0</td>\n",
              "      <td>126000.00000</td>\n",
              "      <td>Commercialassociate</td>\n",
              "      <td>Highereducation</td>\n",
              "      <td>Singlenotmarried</td>\n",
              "      <td>Houseapartment</td>\n",
              "      <td>-18907.00000</td>\n",
              "      <td>-2470</td>\n",
              "      <td>1</td>\n",
              "      <td>0</td>\n",
              "      <td>0</td>\n",
              "      <td>0</td>\n",
              "      <td>Salesstaff</td>\n",
              "      <td>1</td>\n",
              "      <td>1</td>\n",
              "    </tr>\n",
              "    <tr>\n",
              "      <th>19</th>\n",
              "      <td>5021998</td>\n",
              "      <td>M</td>\n",
              "      <td>N</td>\n",
              "      <td>Y</td>\n",
              "      <td>0</td>\n",
              "      <td>90000.00000</td>\n",
              "      <td>Pensioner</td>\n",
              "      <td>Secondarysecondaryspecial</td>\n",
              "      <td>Married</td>\n",
              "      <td>Houseapartment</td>\n",
              "      <td>-18863.00000</td>\n",
              "      <td>-1644</td>\n",
              "      <td>1</td>\n",
              "      <td>0</td>\n",
              "      <td>0</td>\n",
              "      <td>1</td>\n",
              "      <td>Unknown</td>\n",
              "      <td>2</td>\n",
              "      <td>1</td>\n",
              "    </tr>\n",
              "    <tr>\n",
              "      <th>20</th>\n",
              "      <td>5022053</td>\n",
              "      <td>M</td>\n",
              "      <td>N</td>\n",
              "      <td>N</td>\n",
              "      <td>0</td>\n",
              "      <td>202500.00000</td>\n",
              "      <td>Working</td>\n",
              "      <td>Highereducation</td>\n",
              "      <td>Singlenotmarried</td>\n",
              "      <td>Houseapartment</td>\n",
              "      <td>-12811.00000</td>\n",
              "      <td>-4327</td>\n",
              "      <td>1</td>\n",
              "      <td>0</td>\n",
              "      <td>0</td>\n",
              "      <td>0</td>\n",
              "      <td>Unknown</td>\n",
              "      <td>1</td>\n",
              "      <td>1</td>\n",
              "    </tr>\n",
              "    <tr>\n",
              "      <th>21</th>\n",
              "      <td>5022617</td>\n",
              "      <td>M</td>\n",
              "      <td>Y</td>\n",
              "      <td>Y</td>\n",
              "      <td>0</td>\n",
              "      <td>202500.00000</td>\n",
              "      <td>Commercialassociate</td>\n",
              "      <td>Secondarysecondaryspecial</td>\n",
              "      <td>Civilmarriage</td>\n",
              "      <td>Houseapartment</td>\n",
              "      <td>-12022.00000</td>\n",
              "      <td>-1674</td>\n",
              "      <td>1</td>\n",
              "      <td>0</td>\n",
              "      <td>0</td>\n",
              "      <td>1</td>\n",
              "      <td>Laborers</td>\n",
              "      <td>2</td>\n",
              "      <td>1</td>\n",
              "    </tr>\n",
              "    <tr>\n",
              "      <th>22</th>\n",
              "      <td>5023781</td>\n",
              "      <td>M</td>\n",
              "      <td>N</td>\n",
              "      <td>Y</td>\n",
              "      <td>0</td>\n",
              "      <td>157500.00000</td>\n",
              "      <td>Commercialassociate</td>\n",
              "      <td>Highereducation</td>\n",
              "      <td>Civilmarriage</td>\n",
              "      <td>Houseapartment</td>\n",
              "      <td>-17800.00000</td>\n",
              "      <td>-1086</td>\n",
              "      <td>1</td>\n",
              "      <td>0</td>\n",
              "      <td>0</td>\n",
              "      <td>0</td>\n",
              "      <td>Accountants</td>\n",
              "      <td>2</td>\n",
              "      <td>1</td>\n",
              "    </tr>\n",
              "    <tr>\n",
              "      <th>23</th>\n",
              "      <td>5023831</td>\n",
              "      <td>F</td>\n",
              "      <td>N</td>\n",
              "      <td>Y</td>\n",
              "      <td>2</td>\n",
              "      <td>112500.00000</td>\n",
              "      <td>Commercialassociate</td>\n",
              "      <td>Secondarysecondaryspecial</td>\n",
              "      <td>Married</td>\n",
              "      <td>Houseapartment</td>\n",
              "      <td>-12135.00000</td>\n",
              "      <td>-925</td>\n",
              "      <td>1</td>\n",
              "      <td>0</td>\n",
              "      <td>0</td>\n",
              "      <td>0</td>\n",
              "      <td>Salesstaff</td>\n",
              "      <td>4</td>\n",
              "      <td>1</td>\n",
              "    </tr>\n",
              "    <tr>\n",
              "      <th>24</th>\n",
              "      <td>5024071</td>\n",
              "      <td>F</td>\n",
              "      <td>N</td>\n",
              "      <td>Y</td>\n",
              "      <td>0</td>\n",
              "      <td>180000.00000</td>\n",
              "      <td>Working</td>\n",
              "      <td>Highereducation</td>\n",
              "      <td>Married</td>\n",
              "      <td>Houseapartment</td>\n",
              "      <td>-15976.00000</td>\n",
              "      <td>-854</td>\n",
              "      <td>1</td>\n",
              "      <td>0</td>\n",
              "      <td>0</td>\n",
              "      <td>0</td>\n",
              "      <td>Laborers</td>\n",
              "      <td>2</td>\n",
              "      <td>1</td>\n",
              "    </tr>\n",
              "    <tr>\n",
              "      <th>25</th>\n",
              "      <td>5024213</td>\n",
              "      <td>F</td>\n",
              "      <td>Y</td>\n",
              "      <td>Y</td>\n",
              "      <td>0</td>\n",
              "      <td>540000.00000</td>\n",
              "      <td>Commercialassociate</td>\n",
              "      <td>Highereducation</td>\n",
              "      <td>Married</td>\n",
              "      <td>Houseapartment</td>\n",
              "      <td>-15702.00000</td>\n",
              "      <td>-185</td>\n",
              "      <td>1</td>\n",
              "      <td>0</td>\n",
              "      <td>1</td>\n",
              "      <td>0</td>\n",
              "      <td>Unknown</td>\n",
              "      <td>2</td>\n",
              "      <td>1</td>\n",
              "    </tr>\n",
              "    <tr>\n",
              "      <th>26</th>\n",
              "      <td>5024916</td>\n",
              "      <td>F</td>\n",
              "      <td>N</td>\n",
              "      <td>Y</td>\n",
              "      <td>0</td>\n",
              "      <td>112500.00000</td>\n",
              "      <td>Pensioner</td>\n",
              "      <td>Secondarysecondaryspecial</td>\n",
              "      <td>Married</td>\n",
              "      <td>Houseapartment</td>\n",
              "      <td>-21832.00000</td>\n",
              "      <td>365243</td>\n",
              "      <td>1</td>\n",
              "      <td>0</td>\n",
              "      <td>1</td>\n",
              "      <td>0</td>\n",
              "      <td>Unknown</td>\n",
              "      <td>2</td>\n",
              "      <td>1</td>\n",
              "    </tr>\n",
              "    <tr>\n",
              "      <th>27</th>\n",
              "      <td>5024917</td>\n",
              "      <td>F</td>\n",
              "      <td>N</td>\n",
              "      <td>Y</td>\n",
              "      <td>0</td>\n",
              "      <td>191399.32623</td>\n",
              "      <td>Pensioner</td>\n",
              "      <td>Secondarysecondaryspecial</td>\n",
              "      <td>Married</td>\n",
              "      <td>Houseapartment</td>\n",
              "      <td>-21832.00000</td>\n",
              "      <td>365243</td>\n",
              "      <td>1</td>\n",
              "      <td>0</td>\n",
              "      <td>1</td>\n",
              "      <td>0</td>\n",
              "      <td>Unknown</td>\n",
              "      <td>2</td>\n",
              "      <td>1</td>\n",
              "    </tr>\n",
              "    <tr>\n",
              "      <th>28</th>\n",
              "      <td>5025127</td>\n",
              "      <td>F</td>\n",
              "      <td>N</td>\n",
              "      <td>Y</td>\n",
              "      <td>0</td>\n",
              "      <td>292500.00000</td>\n",
              "      <td>Working</td>\n",
              "      <td>Secondarysecondaryspecial</td>\n",
              "      <td>Married</td>\n",
              "      <td>Houseapartment</td>\n",
              "      <td>-11111.00000</td>\n",
              "      <td>-3350</td>\n",
              "      <td>1</td>\n",
              "      <td>0</td>\n",
              "      <td>0</td>\n",
              "      <td>0</td>\n",
              "      <td>Highskilltechstaff</td>\n",
              "      <td>2</td>\n",
              "      <td>1</td>\n",
              "    </tr>\n",
              "    <tr>\n",
              "      <th>29</th>\n",
              "      <td>5028580</td>\n",
              "      <td>M</td>\n",
              "      <td>N</td>\n",
              "      <td>N</td>\n",
              "      <td>0</td>\n",
              "      <td>540000.00000</td>\n",
              "      <td>Commercialassociate</td>\n",
              "      <td>Highereducation</td>\n",
              "      <td>Married</td>\n",
              "      <td>Houseapartment</td>\n",
              "      <td>-19996.00000</td>\n",
              "      <td>-691</td>\n",
              "      <td>1</td>\n",
              "      <td>0</td>\n",
              "      <td>0</td>\n",
              "      <td>0</td>\n",
              "      <td>Managers</td>\n",
              "      <td>2</td>\n",
              "      <td>1</td>\n",
              "    </tr>\n",
              "    <tr>\n",
              "      <th>30</th>\n",
              "      <td>5029028</td>\n",
              "      <td>F</td>\n",
              "      <td>N</td>\n",
              "      <td>Y</td>\n",
              "      <td>0</td>\n",
              "      <td>90000.00000</td>\n",
              "      <td>Working</td>\n",
              "      <td>Lowersecondary</td>\n",
              "      <td>Singlenotmarried</td>\n",
              "      <td>Rentedapartment</td>\n",
              "      <td>-12026.00000</td>\n",
              "      <td>-4770</td>\n",
              "      <td>1</td>\n",
              "      <td>0</td>\n",
              "      <td>0</td>\n",
              "      <td>0</td>\n",
              "      <td>Cleaningstaff</td>\n",
              "      <td>2</td>\n",
              "      <td>1</td>\n",
              "    </tr>\n",
              "    <tr>\n",
              "      <th>31</th>\n",
              "      <td>5029311</td>\n",
              "      <td>F</td>\n",
              "      <td>N</td>\n",
              "      <td>Y</td>\n",
              "      <td>0</td>\n",
              "      <td>112500.00000</td>\n",
              "      <td>Pensioner</td>\n",
              "      <td>Secondarysecondaryspecial</td>\n",
              "      <td>Married</td>\n",
              "      <td>Houseapartment</td>\n",
              "      <td>-21876.00000</td>\n",
              "      <td>365243</td>\n",
              "      <td>1</td>\n",
              "      <td>0</td>\n",
              "      <td>1</td>\n",
              "      <td>1</td>\n",
              "      <td>Unknown</td>\n",
              "      <td>2</td>\n",
              "      <td>1</td>\n",
              "    </tr>\n",
              "    <tr>\n",
              "      <th>32</th>\n",
              "      <td>5033453</td>\n",
              "      <td>F</td>\n",
              "      <td>N</td>\n",
              "      <td>N</td>\n",
              "      <td>0</td>\n",
              "      <td>135000.00000</td>\n",
              "      <td>Working</td>\n",
              "      <td>Highereducation</td>\n",
              "      <td>Singlenotmarried</td>\n",
              "      <td>Houseapartment</td>\n",
              "      <td>-10749.00000</td>\n",
              "      <td>-2394</td>\n",
              "      <td>1</td>\n",
              "      <td>0</td>\n",
              "      <td>0</td>\n",
              "      <td>0</td>\n",
              "      <td>Laborers</td>\n",
              "      <td>1</td>\n",
              "      <td>1</td>\n",
              "    </tr>\n",
              "    <tr>\n",
              "      <th>33</th>\n",
              "      <td>5033514</td>\n",
              "      <td>F</td>\n",
              "      <td>Y</td>\n",
              "      <td>N</td>\n",
              "      <td>1</td>\n",
              "      <td>135000.00000</td>\n",
              "      <td>Working</td>\n",
              "      <td>Secondarysecondaryspecial</td>\n",
              "      <td>Married</td>\n",
              "      <td>Houseapartment</td>\n",
              "      <td>-15952.00000</td>\n",
              "      <td>-384</td>\n",
              "      <td>1</td>\n",
              "      <td>1</td>\n",
              "      <td>0</td>\n",
              "      <td>0</td>\n",
              "      <td>Salesstaff</td>\n",
              "      <td>3</td>\n",
              "      <td>1</td>\n",
              "    </tr>\n",
              "    <tr>\n",
              "      <th>34</th>\n",
              "      <td>5033916</td>\n",
              "      <td>M</td>\n",
              "      <td>N</td>\n",
              "      <td>Y</td>\n",
              "      <td>0</td>\n",
              "      <td>180000.00000</td>\n",
              "      <td>Working</td>\n",
              "      <td>Secondarysecondaryspecial</td>\n",
              "      <td>Married</td>\n",
              "      <td>Houseapartment</td>\n",
              "      <td>-13015.00000</td>\n",
              "      <td>-3647</td>\n",
              "      <td>1</td>\n",
              "      <td>0</td>\n",
              "      <td>0</td>\n",
              "      <td>0</td>\n",
              "      <td>Unknown</td>\n",
              "      <td>2</td>\n",
              "      <td>1</td>\n",
              "    </tr>\n",
              "    <tr>\n",
              "      <th>35</th>\n",
              "      <td>5036469</td>\n",
              "      <td>M</td>\n",
              "      <td>Y</td>\n",
              "      <td>N</td>\n",
              "      <td>0</td>\n",
              "      <td>112500.00000</td>\n",
              "      <td>Stateservant</td>\n",
              "      <td>Secondarysecondaryspecial</td>\n",
              "      <td>Singlenotmarried</td>\n",
              "      <td>Houseapartment</td>\n",
              "      <td>-20333.00000</td>\n",
              "      <td>-1546</td>\n",
              "      <td>1</td>\n",
              "      <td>0</td>\n",
              "      <td>0</td>\n",
              "      <td>0</td>\n",
              "      <td>Drivers</td>\n",
              "      <td>2</td>\n",
              "      <td>1</td>\n",
              "    </tr>\n",
              "    <tr>\n",
              "      <th>36</th>\n",
              "      <td>5036590</td>\n",
              "      <td>M</td>\n",
              "      <td>Y</td>\n",
              "      <td>Y</td>\n",
              "      <td>0</td>\n",
              "      <td>292500.00000</td>\n",
              "      <td>Working</td>\n",
              "      <td>Highereducation</td>\n",
              "      <td>Married</td>\n",
              "      <td>Houseapartment</td>\n",
              "      <td>-21055.00000</td>\n",
              "      <td>-808</td>\n",
              "      <td>1</td>\n",
              "      <td>0</td>\n",
              "      <td>0</td>\n",
              "      <td>0</td>\n",
              "      <td>Drivers</td>\n",
              "      <td>2</td>\n",
              "      <td>1</td>\n",
              "    </tr>\n",
              "    <tr>\n",
              "      <th>37</th>\n",
              "      <td>5036660</td>\n",
              "      <td>F</td>\n",
              "      <td>Y</td>\n",
              "      <td>Y</td>\n",
              "      <td>0</td>\n",
              "      <td>76500.00000</td>\n",
              "      <td>Pensioner</td>\n",
              "      <td>Secondarysecondaryspecial</td>\n",
              "      <td>Married</td>\n",
              "      <td>Houseapartment</td>\n",
              "      <td>-23835.00000</td>\n",
              "      <td>365243</td>\n",
              "      <td>1</td>\n",
              "      <td>0</td>\n",
              "      <td>0</td>\n",
              "      <td>0</td>\n",
              "      <td>Unknown</td>\n",
              "      <td>2</td>\n",
              "      <td>1</td>\n",
              "    </tr>\n",
              "    <tr>\n",
              "      <th>38</th>\n",
              "      <td>5036795</td>\n",
              "      <td>M</td>\n",
              "      <td>Y</td>\n",
              "      <td>Y</td>\n",
              "      <td>0</td>\n",
              "      <td>215100.00000</td>\n",
              "      <td>Commercialassociate</td>\n",
              "      <td>Secondarysecondaryspecial</td>\n",
              "      <td>Married</td>\n",
              "      <td>Houseapartment</td>\n",
              "      <td>-19175.00000</td>\n",
              "      <td>-1285</td>\n",
              "      <td>1</td>\n",
              "      <td>0</td>\n",
              "      <td>1</td>\n",
              "      <td>0</td>\n",
              "      <td>Laborers</td>\n",
              "      <td>2</td>\n",
              "      <td>1</td>\n",
              "    </tr>\n",
              "    <tr>\n",
              "      <th>39</th>\n",
              "      <td>5041522</td>\n",
              "      <td>M</td>\n",
              "      <td>Y</td>\n",
              "      <td>Y</td>\n",
              "      <td>0</td>\n",
              "      <td>450000.00000</td>\n",
              "      <td>Commercialassociate</td>\n",
              "      <td>Highereducation</td>\n",
              "      <td>Separated</td>\n",
              "      <td>Houseapartment</td>\n",
              "      <td>-16169.00000</td>\n",
              "      <td>-855</td>\n",
              "      <td>1</td>\n",
              "      <td>1</td>\n",
              "      <td>1</td>\n",
              "      <td>0</td>\n",
              "      <td>Unknown</td>\n",
              "      <td>1</td>\n",
              "      <td>1</td>\n",
              "    </tr>\n",
              "    <tr>\n",
              "      <th>40</th>\n",
              "      <td>5042064</td>\n",
              "      <td>F</td>\n",
              "      <td>Y</td>\n",
              "      <td>N</td>\n",
              "      <td>2</td>\n",
              "      <td>270000.00000</td>\n",
              "      <td>Stateservant</td>\n",
              "      <td>Highereducation</td>\n",
              "      <td>Married</td>\n",
              "      <td>Houseapartment</td>\n",
              "      <td>-16053.00000</td>\n",
              "      <td>-7369</td>\n",
              "      <td>1</td>\n",
              "      <td>1</td>\n",
              "      <td>1</td>\n",
              "      <td>0</td>\n",
              "      <td>Unknown</td>\n",
              "      <td>4</td>\n",
              "      <td>1</td>\n",
              "    </tr>\n",
              "    <tr>\n",
              "      <th>41</th>\n",
              "      <td>5045888</td>\n",
              "      <td>F</td>\n",
              "      <td>N</td>\n",
              "      <td>Y</td>\n",
              "      <td>0</td>\n",
              "      <td>225000.00000</td>\n",
              "      <td>Pensioner</td>\n",
              "      <td>Secondarysecondaryspecial</td>\n",
              "      <td>Singlenotmarried</td>\n",
              "      <td>Houseapartment</td>\n",
              "      <td>-23286.00000</td>\n",
              "      <td>365243</td>\n",
              "      <td>1</td>\n",
              "      <td>0</td>\n",
              "      <td>0</td>\n",
              "      <td>0</td>\n",
              "      <td>Unknown</td>\n",
              "      <td>1</td>\n",
              "      <td>1</td>\n",
              "    </tr>\n",
              "    <tr>\n",
              "      <th>42</th>\n",
              "      <td>5045894</td>\n",
              "      <td>F</td>\n",
              "      <td>N</td>\n",
              "      <td>Y</td>\n",
              "      <td>0</td>\n",
              "      <td>225000.00000</td>\n",
              "      <td>Pensioner</td>\n",
              "      <td>Secondarysecondaryspecial</td>\n",
              "      <td>Singlenotmarried</td>\n",
              "      <td>Houseapartment</td>\n",
              "      <td>-23286.00000</td>\n",
              "      <td>365243</td>\n",
              "      <td>1</td>\n",
              "      <td>0</td>\n",
              "      <td>0</td>\n",
              "      <td>0</td>\n",
              "      <td>Unknown</td>\n",
              "      <td>1</td>\n",
              "      <td>1</td>\n",
              "    </tr>\n",
              "    <tr>\n",
              "      <th>43</th>\n",
              "      <td>5045895</td>\n",
              "      <td>F</td>\n",
              "      <td>N</td>\n",
              "      <td>Y</td>\n",
              "      <td>0</td>\n",
              "      <td>225000.00000</td>\n",
              "      <td>Pensioner</td>\n",
              "      <td>Secondarysecondaryspecial</td>\n",
              "      <td>Singlenotmarried</td>\n",
              "      <td>Houseapartment</td>\n",
              "      <td>-23286.00000</td>\n",
              "      <td>365243</td>\n",
              "      <td>1</td>\n",
              "      <td>0</td>\n",
              "      <td>0</td>\n",
              "      <td>0</td>\n",
              "      <td>Unknown</td>\n",
              "      <td>1</td>\n",
              "      <td>1</td>\n",
              "    </tr>\n",
              "    <tr>\n",
              "      <th>44</th>\n",
              "      <td>5046324</td>\n",
              "      <td>F</td>\n",
              "      <td>N</td>\n",
              "      <td>Y</td>\n",
              "      <td>1</td>\n",
              "      <td>157500.00000</td>\n",
              "      <td>Commercialassociate</td>\n",
              "      <td>Secondarysecondaryspecial</td>\n",
              "      <td>Singlenotmarried</td>\n",
              "      <td>Houseapartment</td>\n",
              "      <td>-15466.00000</td>\n",
              "      <td>-2269</td>\n",
              "      <td>1</td>\n",
              "      <td>0</td>\n",
              "      <td>1</td>\n",
              "      <td>0</td>\n",
              "      <td>LowskillLaborers</td>\n",
              "      <td>3</td>\n",
              "      <td>1</td>\n",
              "    </tr>\n",
              "    <tr>\n",
              "      <th>45</th>\n",
              "      <td>5046328</td>\n",
              "      <td>F</td>\n",
              "      <td>N</td>\n",
              "      <td>Y</td>\n",
              "      <td>1</td>\n",
              "      <td>157500.00000</td>\n",
              "      <td>Pensioner</td>\n",
              "      <td>Secondarysecondaryspecial</td>\n",
              "      <td>Singlenotmarried</td>\n",
              "      <td>Houseapartment</td>\n",
              "      <td>-15466.00000</td>\n",
              "      <td>-2269</td>\n",
              "      <td>1</td>\n",
              "      <td>0</td>\n",
              "      <td>1</td>\n",
              "      <td>0</td>\n",
              "      <td>LowskillLaborers</td>\n",
              "      <td>3</td>\n",
              "      <td>1</td>\n",
              "    </tr>\n",
              "    <tr>\n",
              "      <th>46</th>\n",
              "      <td>5047662</td>\n",
              "      <td>F</td>\n",
              "      <td>N</td>\n",
              "      <td>Y</td>\n",
              "      <td>1</td>\n",
              "      <td>67500.00000</td>\n",
              "      <td>Commercialassociate</td>\n",
              "      <td>Secondarysecondaryspecial</td>\n",
              "      <td>Married</td>\n",
              "      <td>Houseapartment</td>\n",
              "      <td>-18880.00000</td>\n",
              "      <td>-4114</td>\n",
              "      <td>1</td>\n",
              "      <td>0</td>\n",
              "      <td>0</td>\n",
              "      <td>0</td>\n",
              "      <td>Accountants</td>\n",
              "      <td>3</td>\n",
              "      <td>1</td>\n",
              "    </tr>\n",
              "    <tr>\n",
              "      <th>47</th>\n",
              "      <td>5048300</td>\n",
              "      <td>M</td>\n",
              "      <td>Y</td>\n",
              "      <td>N</td>\n",
              "      <td>1</td>\n",
              "      <td>180000.00000</td>\n",
              "      <td>Commercialassociate</td>\n",
              "      <td>Secondarysecondaryspecial</td>\n",
              "      <td>Married</td>\n",
              "      <td>Houseapartment</td>\n",
              "      <td>-11091.00000</td>\n",
              "      <td>-1161</td>\n",
              "      <td>1</td>\n",
              "      <td>0</td>\n",
              "      <td>0</td>\n",
              "      <td>0</td>\n",
              "      <td>Laborers</td>\n",
              "      <td>3</td>\n",
              "      <td>1</td>\n",
              "    </tr>\n",
              "    <tr>\n",
              "      <th>48</th>\n",
              "      <td>5048301</td>\n",
              "      <td>M</td>\n",
              "      <td>Y</td>\n",
              "      <td>N</td>\n",
              "      <td>1</td>\n",
              "      <td>180000.00000</td>\n",
              "      <td>Commercialassociate</td>\n",
              "      <td>Secondarysecondaryspecial</td>\n",
              "      <td>Married</td>\n",
              "      <td>Houseapartment</td>\n",
              "      <td>-11091.00000</td>\n",
              "      <td>-1161</td>\n",
              "      <td>1</td>\n",
              "      <td>0</td>\n",
              "      <td>0</td>\n",
              "      <td>0</td>\n",
              "      <td>Laborers</td>\n",
              "      <td>3</td>\n",
              "      <td>1</td>\n",
              "    </tr>\n",
              "    <tr>\n",
              "      <th>49</th>\n",
              "      <td>5050603</td>\n",
              "      <td>M</td>\n",
              "      <td>N</td>\n",
              "      <td>N</td>\n",
              "      <td>0</td>\n",
              "      <td>157500.00000</td>\n",
              "      <td>Working</td>\n",
              "      <td>Secondarysecondaryspecial</td>\n",
              "      <td>Married</td>\n",
              "      <td>Houseapartment</td>\n",
              "      <td>-18327.00000</td>\n",
              "      <td>-7288</td>\n",
              "      <td>1</td>\n",
              "      <td>1</td>\n",
              "      <td>0</td>\n",
              "      <td>0</td>\n",
              "      <td>Laborers</td>\n",
              "      <td>2</td>\n",
              "      <td>1</td>\n",
              "    </tr>\n",
              "  </tbody>\n",
              "</table>\n",
              "</div>\n",
              "    <div class=\"colab-df-buttons\">\n",
              "\n",
              "  <div class=\"colab-df-container\">\n",
              "    <button class=\"colab-df-convert\" onclick=\"convertToInteractive('df-f100b500-af12-4377-88e6-da2c87b9f49c')\"\n",
              "            title=\"Convert this dataframe to an interactive table.\"\n",
              "            style=\"display:none;\">\n",
              "\n",
              "  <svg xmlns=\"http://www.w3.org/2000/svg\" height=\"24px\" viewBox=\"0 -960 960 960\">\n",
              "    <path d=\"M120-120v-720h720v720H120Zm60-500h600v-160H180v160Zm220 220h160v-160H400v160Zm0 220h160v-160H400v160ZM180-400h160v-160H180v160Zm440 0h160v-160H620v160ZM180-180h160v-160H180v160Zm440 0h160v-160H620v160Z\"/>\n",
              "  </svg>\n",
              "    </button>\n",
              "\n",
              "  <style>\n",
              "    .colab-df-container {\n",
              "      display:flex;\n",
              "      gap: 12px;\n",
              "    }\n",
              "\n",
              "    .colab-df-convert {\n",
              "      background-color: #E8F0FE;\n",
              "      border: none;\n",
              "      border-radius: 50%;\n",
              "      cursor: pointer;\n",
              "      display: none;\n",
              "      fill: #1967D2;\n",
              "      height: 32px;\n",
              "      padding: 0 0 0 0;\n",
              "      width: 32px;\n",
              "    }\n",
              "\n",
              "    .colab-df-convert:hover {\n",
              "      background-color: #E2EBFA;\n",
              "      box-shadow: 0px 1px 2px rgba(60, 64, 67, 0.3), 0px 1px 3px 1px rgba(60, 64, 67, 0.15);\n",
              "      fill: #174EA6;\n",
              "    }\n",
              "\n",
              "    .colab-df-buttons div {\n",
              "      margin-bottom: 4px;\n",
              "    }\n",
              "\n",
              "    [theme=dark] .colab-df-convert {\n",
              "      background-color: #3B4455;\n",
              "      fill: #D2E3FC;\n",
              "    }\n",
              "\n",
              "    [theme=dark] .colab-df-convert:hover {\n",
              "      background-color: #434B5C;\n",
              "      box-shadow: 0px 1px 3px 1px rgba(0, 0, 0, 0.15);\n",
              "      filter: drop-shadow(0px 1px 2px rgba(0, 0, 0, 0.3));\n",
              "      fill: #FFFFFF;\n",
              "    }\n",
              "  </style>\n",
              "\n",
              "    <script>\n",
              "      const buttonEl =\n",
              "        document.querySelector('#df-f100b500-af12-4377-88e6-da2c87b9f49c button.colab-df-convert');\n",
              "      buttonEl.style.display =\n",
              "        google.colab.kernel.accessAllowed ? 'block' : 'none';\n",
              "\n",
              "      async function convertToInteractive(key) {\n",
              "        const element = document.querySelector('#df-f100b500-af12-4377-88e6-da2c87b9f49c');\n",
              "        const dataTable =\n",
              "          await google.colab.kernel.invokeFunction('convertToInteractive',\n",
              "                                                    [key], {});\n",
              "        if (!dataTable) return;\n",
              "\n",
              "        const docLinkHtml = 'Like what you see? Visit the ' +\n",
              "          '<a target=\"_blank\" href=https://colab.research.google.com/notebooks/data_table.ipynb>data table notebook</a>'\n",
              "          + ' to learn more about interactive tables.';\n",
              "        element.innerHTML = '';\n",
              "        dataTable['output_type'] = 'display_data';\n",
              "        await google.colab.output.renderOutput(dataTable, element);\n",
              "        const docLink = document.createElement('div');\n",
              "        docLink.innerHTML = docLinkHtml;\n",
              "        element.appendChild(docLink);\n",
              "      }\n",
              "    </script>\n",
              "  </div>\n",
              "\n",
              "\n",
              "<div id=\"df-e7c4b38f-6306-4b95-a52e-f861ea9a39ab\">\n",
              "  <button class=\"colab-df-quickchart\" onclick=\"quickchart('df-e7c4b38f-6306-4b95-a52e-f861ea9a39ab')\"\n",
              "            title=\"Suggest charts.\"\n",
              "            style=\"display:none;\">\n",
              "\n",
              "<svg xmlns=\"http://www.w3.org/2000/svg\" height=\"24px\"viewBox=\"0 0 24 24\"\n",
              "     width=\"24px\">\n",
              "    <g>\n",
              "        <path d=\"M19 3H5c-1.1 0-2 .9-2 2v14c0 1.1.9 2 2 2h14c1.1 0 2-.9 2-2V5c0-1.1-.9-2-2-2zM9 17H7v-7h2v7zm4 0h-2V7h2v10zm4 0h-2v-4h2v4z\"/>\n",
              "    </g>\n",
              "</svg>\n",
              "  </button>\n",
              "\n",
              "<style>\n",
              "  .colab-df-quickchart {\n",
              "      --bg-color: #E8F0FE;\n",
              "      --fill-color: #1967D2;\n",
              "      --hover-bg-color: #E2EBFA;\n",
              "      --hover-fill-color: #174EA6;\n",
              "      --disabled-fill-color: #AAA;\n",
              "      --disabled-bg-color: #DDD;\n",
              "  }\n",
              "\n",
              "  [theme=dark] .colab-df-quickchart {\n",
              "      --bg-color: #3B4455;\n",
              "      --fill-color: #D2E3FC;\n",
              "      --hover-bg-color: #434B5C;\n",
              "      --hover-fill-color: #FFFFFF;\n",
              "      --disabled-bg-color: #3B4455;\n",
              "      --disabled-fill-color: #666;\n",
              "  }\n",
              "\n",
              "  .colab-df-quickchart {\n",
              "    background-color: var(--bg-color);\n",
              "    border: none;\n",
              "    border-radius: 50%;\n",
              "    cursor: pointer;\n",
              "    display: none;\n",
              "    fill: var(--fill-color);\n",
              "    height: 32px;\n",
              "    padding: 0;\n",
              "    width: 32px;\n",
              "  }\n",
              "\n",
              "  .colab-df-quickchart:hover {\n",
              "    background-color: var(--hover-bg-color);\n",
              "    box-shadow: 0 1px 2px rgba(60, 64, 67, 0.3), 0 1px 3px 1px rgba(60, 64, 67, 0.15);\n",
              "    fill: var(--button-hover-fill-color);\n",
              "  }\n",
              "\n",
              "  .colab-df-quickchart-complete:disabled,\n",
              "  .colab-df-quickchart-complete:disabled:hover {\n",
              "    background-color: var(--disabled-bg-color);\n",
              "    fill: var(--disabled-fill-color);\n",
              "    box-shadow: none;\n",
              "  }\n",
              "\n",
              "  .colab-df-spinner {\n",
              "    border: 2px solid var(--fill-color);\n",
              "    border-color: transparent;\n",
              "    border-bottom-color: var(--fill-color);\n",
              "    animation:\n",
              "      spin 1s steps(1) infinite;\n",
              "  }\n",
              "\n",
              "  @keyframes spin {\n",
              "    0% {\n",
              "      border-color: transparent;\n",
              "      border-bottom-color: var(--fill-color);\n",
              "      border-left-color: var(--fill-color);\n",
              "    }\n",
              "    20% {\n",
              "      border-color: transparent;\n",
              "      border-left-color: var(--fill-color);\n",
              "      border-top-color: var(--fill-color);\n",
              "    }\n",
              "    30% {\n",
              "      border-color: transparent;\n",
              "      border-left-color: var(--fill-color);\n",
              "      border-top-color: var(--fill-color);\n",
              "      border-right-color: var(--fill-color);\n",
              "    }\n",
              "    40% {\n",
              "      border-color: transparent;\n",
              "      border-right-color: var(--fill-color);\n",
              "      border-top-color: var(--fill-color);\n",
              "    }\n",
              "    60% {\n",
              "      border-color: transparent;\n",
              "      border-right-color: var(--fill-color);\n",
              "    }\n",
              "    80% {\n",
              "      border-color: transparent;\n",
              "      border-right-color: var(--fill-color);\n",
              "      border-bottom-color: var(--fill-color);\n",
              "    }\n",
              "    90% {\n",
              "      border-color: transparent;\n",
              "      border-bottom-color: var(--fill-color);\n",
              "    }\n",
              "  }\n",
              "</style>\n",
              "\n",
              "  <script>\n",
              "    async function quickchart(key) {\n",
              "      const quickchartButtonEl =\n",
              "        document.querySelector('#' + key + ' button');\n",
              "      quickchartButtonEl.disabled = true;  // To prevent multiple clicks.\n",
              "      quickchartButtonEl.classList.add('colab-df-spinner');\n",
              "      try {\n",
              "        const charts = await google.colab.kernel.invokeFunction(\n",
              "            'suggestCharts', [key], {});\n",
              "      } catch (error) {\n",
              "        console.error('Error during call to suggestCharts:', error);\n",
              "      }\n",
              "      quickchartButtonEl.classList.remove('colab-df-spinner');\n",
              "      quickchartButtonEl.classList.add('colab-df-quickchart-complete');\n",
              "    }\n",
              "    (() => {\n",
              "      let quickchartButtonEl =\n",
              "        document.querySelector('#df-e7c4b38f-6306-4b95-a52e-f861ea9a39ab button');\n",
              "      quickchartButtonEl.style.display =\n",
              "        google.colab.kernel.accessAllowed ? 'block' : 'none';\n",
              "    })();\n",
              "  </script>\n",
              "</div>\n",
              "    </div>\n",
              "  </div>\n"
            ],
            "text/plain": [
              "     Ind_ID GENDER Car_Owner Propert_Owner  CHILDREN  Annual_income  \\\n",
              "0   5008827      M         Y             Y         0   180000.00000   \n",
              "1   5009744      F         Y             N         0   315000.00000   \n",
              "2   5009746      F         Y             N         0   315000.00000   \n",
              "3   5009749      F         Y             N         0   191399.32623   \n",
              "4   5009752      F         Y             N         0   315000.00000   \n",
              "5   5009753      F         Y             N         0   315000.00000   \n",
              "6   5009754      F         Y             N         0   315000.00000   \n",
              "7   5009894      F         N             N         0   180000.00000   \n",
              "8   5010864      M         Y             Y         1   450000.00000   \n",
              "9   5010868      M         Y             Y         1   450000.00000   \n",
              "10  5010869      M         Y             Y         1   450000.00000   \n",
              "11  5018498      F         Y             Y         0    90000.00000   \n",
              "12  5018501      F         Y             Y         0   191399.32623   \n",
              "13  5018503      F         Y             Y         0    90000.00000   \n",
              "14  5021303      M         N             N         1   472500.00000   \n",
              "15  5021310      M         N             Y         0   270000.00000   \n",
              "16  5021314      M         N             Y         0   270000.00000   \n",
              "17  5021430      F         N             Y         0   126000.00000   \n",
              "18  5021431      F         N             Y         0   126000.00000   \n",
              "19  5021998      M         N             Y         0    90000.00000   \n",
              "20  5022053      M         N             N         0   202500.00000   \n",
              "21  5022617      M         Y             Y         0   202500.00000   \n",
              "22  5023781      M         N             Y         0   157500.00000   \n",
              "23  5023831      F         N             Y         2   112500.00000   \n",
              "24  5024071      F         N             Y         0   180000.00000   \n",
              "25  5024213      F         Y             Y         0   540000.00000   \n",
              "26  5024916      F         N             Y         0   112500.00000   \n",
              "27  5024917      F         N             Y         0   191399.32623   \n",
              "28  5025127      F         N             Y         0   292500.00000   \n",
              "29  5028580      M         N             N         0   540000.00000   \n",
              "30  5029028      F         N             Y         0    90000.00000   \n",
              "31  5029311      F         N             Y         0   112500.00000   \n",
              "32  5033453      F         N             N         0   135000.00000   \n",
              "33  5033514      F         Y             N         1   135000.00000   \n",
              "34  5033916      M         N             Y         0   180000.00000   \n",
              "35  5036469      M         Y             N         0   112500.00000   \n",
              "36  5036590      M         Y             Y         0   292500.00000   \n",
              "37  5036660      F         Y             Y         0    76500.00000   \n",
              "38  5036795      M         Y             Y         0   215100.00000   \n",
              "39  5041522      M         Y             Y         0   450000.00000   \n",
              "40  5042064      F         Y             N         2   270000.00000   \n",
              "41  5045888      F         N             Y         0   225000.00000   \n",
              "42  5045894      F         N             Y         0   225000.00000   \n",
              "43  5045895      F         N             Y         0   225000.00000   \n",
              "44  5046324      F         N             Y         1   157500.00000   \n",
              "45  5046328      F         N             Y         1   157500.00000   \n",
              "46  5047662      F         N             Y         1    67500.00000   \n",
              "47  5048300      M         Y             N         1   180000.00000   \n",
              "48  5048301      M         Y             N         1   180000.00000   \n",
              "49  5050603      M         N             N         0   157500.00000   \n",
              "\n",
              "            Type_Income                  EDUCATION    Marital_status  \\\n",
              "0             Pensioner            Highereducation           Married   \n",
              "1   Commercialassociate            Highereducation           Married   \n",
              "2   Commercialassociate            Highereducation           Married   \n",
              "3   Commercialassociate            Highereducation           Married   \n",
              "4   Commercialassociate            Highereducation           Married   \n",
              "5             Pensioner            Highereducation           Married   \n",
              "6   Commercialassociate            Highereducation           Married   \n",
              "7             Pensioner  Secondarysecondaryspecial           Married   \n",
              "8   Commercialassociate  Secondarysecondaryspecial           Married   \n",
              "9             Pensioner  Secondarysecondaryspecial           Married   \n",
              "10  Commercialassociate  Secondarysecondaryspecial  Singlenotmarried   \n",
              "11              Working  Secondarysecondaryspecial           Married   \n",
              "12              Working  Secondarysecondaryspecial           Married   \n",
              "13              Working  Secondarysecondaryspecial           Married   \n",
              "14            Pensioner            Highereducation           Married   \n",
              "15              Working  Secondarysecondaryspecial           Married   \n",
              "16              Working  Secondarysecondaryspecial  Singlenotmarried   \n",
              "17  Commercialassociate            Highereducation  Singlenotmarried   \n",
              "18  Commercialassociate            Highereducation  Singlenotmarried   \n",
              "19            Pensioner  Secondarysecondaryspecial           Married   \n",
              "20              Working            Highereducation  Singlenotmarried   \n",
              "21  Commercialassociate  Secondarysecondaryspecial     Civilmarriage   \n",
              "22  Commercialassociate            Highereducation     Civilmarriage   \n",
              "23  Commercialassociate  Secondarysecondaryspecial           Married   \n",
              "24              Working            Highereducation           Married   \n",
              "25  Commercialassociate            Highereducation           Married   \n",
              "26            Pensioner  Secondarysecondaryspecial           Married   \n",
              "27            Pensioner  Secondarysecondaryspecial           Married   \n",
              "28              Working  Secondarysecondaryspecial           Married   \n",
              "29  Commercialassociate            Highereducation           Married   \n",
              "30              Working             Lowersecondary  Singlenotmarried   \n",
              "31            Pensioner  Secondarysecondaryspecial           Married   \n",
              "32              Working            Highereducation  Singlenotmarried   \n",
              "33              Working  Secondarysecondaryspecial           Married   \n",
              "34              Working  Secondarysecondaryspecial           Married   \n",
              "35         Stateservant  Secondarysecondaryspecial  Singlenotmarried   \n",
              "36              Working            Highereducation           Married   \n",
              "37            Pensioner  Secondarysecondaryspecial           Married   \n",
              "38  Commercialassociate  Secondarysecondaryspecial           Married   \n",
              "39  Commercialassociate            Highereducation         Separated   \n",
              "40         Stateservant            Highereducation           Married   \n",
              "41            Pensioner  Secondarysecondaryspecial  Singlenotmarried   \n",
              "42            Pensioner  Secondarysecondaryspecial  Singlenotmarried   \n",
              "43            Pensioner  Secondarysecondaryspecial  Singlenotmarried   \n",
              "44  Commercialassociate  Secondarysecondaryspecial  Singlenotmarried   \n",
              "45            Pensioner  Secondarysecondaryspecial  Singlenotmarried   \n",
              "46  Commercialassociate  Secondarysecondaryspecial           Married   \n",
              "47  Commercialassociate  Secondarysecondaryspecial           Married   \n",
              "48  Commercialassociate  Secondarysecondaryspecial           Married   \n",
              "49              Working  Secondarysecondaryspecial           Married   \n",
              "\n",
              "       Housing_type  Birthday_count  Employed_days  Mobile_phone  Work_Phone  \\\n",
              "0    Houseapartment    -18772.00000         365243             1           0   \n",
              "1    Houseapartment    -13557.00000           -586             1           1   \n",
              "2    Houseapartment    191399.32623           -586             1           1   \n",
              "3    Houseapartment    -13557.00000           -586             1           1   \n",
              "4    Houseapartment    -13557.00000           -586             1           1   \n",
              "5    Houseapartment    -13557.00000           -586             1           1   \n",
              "6    Houseapartment    -13557.00000           -586             1           1   \n",
              "7    Houseapartment    -22134.00000         365243             1           0   \n",
              "8    Houseapartment    -18173.00000           -678             1           0   \n",
              "9    Houseapartment    -18173.00000           -678             1           0   \n",
              "10   Houseapartment    -18173.00000           -678             1           0   \n",
              "11   Houseapartment    -18950.00000          -1002             1           1   \n",
              "12   Houseapartment    -18950.00000          -1002             1           1   \n",
              "13   Houseapartment    -18950.00000          -1002             1           1   \n",
              "14      Withparents     -8907.00000           -913             1           0   \n",
              "15   Houseapartment    -16896.00000           -248             1           0   \n",
              "16   Houseapartment    -16896.00000           -248             1           0   \n",
              "17   Houseapartment    -18907.00000          -2470             1           0   \n",
              "18   Houseapartment    -18907.00000          -2470             1           0   \n",
              "19   Houseapartment    -18863.00000          -1644             1           0   \n",
              "20   Houseapartment    -12811.00000          -4327             1           0   \n",
              "21   Houseapartment    -12022.00000          -1674             1           0   \n",
              "22   Houseapartment    -17800.00000          -1086             1           0   \n",
              "23   Houseapartment    -12135.00000           -925             1           0   \n",
              "24   Houseapartment    -15976.00000           -854             1           0   \n",
              "25   Houseapartment    -15702.00000           -185             1           0   \n",
              "26   Houseapartment    -21832.00000         365243             1           0   \n",
              "27   Houseapartment    -21832.00000         365243             1           0   \n",
              "28   Houseapartment    -11111.00000          -3350             1           0   \n",
              "29   Houseapartment    -19996.00000           -691             1           0   \n",
              "30  Rentedapartment    -12026.00000          -4770             1           0   \n",
              "31   Houseapartment    -21876.00000         365243             1           0   \n",
              "32   Houseapartment    -10749.00000          -2394             1           0   \n",
              "33   Houseapartment    -15952.00000           -384             1           1   \n",
              "34   Houseapartment    -13015.00000          -3647             1           0   \n",
              "35   Houseapartment    -20333.00000          -1546             1           0   \n",
              "36   Houseapartment    -21055.00000           -808             1           0   \n",
              "37   Houseapartment    -23835.00000         365243             1           0   \n",
              "38   Houseapartment    -19175.00000          -1285             1           0   \n",
              "39   Houseapartment    -16169.00000           -855             1           1   \n",
              "40   Houseapartment    -16053.00000          -7369             1           1   \n",
              "41   Houseapartment    -23286.00000         365243             1           0   \n",
              "42   Houseapartment    -23286.00000         365243             1           0   \n",
              "43   Houseapartment    -23286.00000         365243             1           0   \n",
              "44   Houseapartment    -15466.00000          -2269             1           0   \n",
              "45   Houseapartment    -15466.00000          -2269             1           0   \n",
              "46   Houseapartment    -18880.00000          -4114             1           0   \n",
              "47   Houseapartment    -11091.00000          -1161             1           0   \n",
              "48   Houseapartment    -11091.00000          -1161             1           0   \n",
              "49   Houseapartment    -18327.00000          -7288             1           1   \n",
              "\n",
              "    Phone  EMAIL_ID     Type_Occupation  Family_Members  label  \n",
              "0       0         0             Unknown               2      1  \n",
              "1       1         0             Unknown               2      1  \n",
              "2       1         0             Unknown               2      1  \n",
              "3       1         0             Unknown               2      1  \n",
              "4       1         0             Unknown               2      1  \n",
              "5       1         0             Unknown               2      1  \n",
              "6       1         0             Unknown               2      1  \n",
              "7       0         0             Unknown               2      1  \n",
              "8       1         1           Corestaff               3      1  \n",
              "9       1         1           Corestaff               3      1  \n",
              "10      1         1           Corestaff               1      1  \n",
              "11      1         0        Cookingstaff               2      1  \n",
              "12      1         0        Cookingstaff               2      1  \n",
              "13      1         0        Cookingstaff               2      1  \n",
              "14      0         1             Unknown               3      1  \n",
              "15      0         0            Laborers               2      1  \n",
              "16      0         0            Laborers               2      1  \n",
              "17      0         0          Salesstaff               1      1  \n",
              "18      0         0          Salesstaff               1      1  \n",
              "19      0         1             Unknown               2      1  \n",
              "20      0         0             Unknown               1      1  \n",
              "21      0         1            Laborers               2      1  \n",
              "22      0         0         Accountants               2      1  \n",
              "23      0         0          Salesstaff               4      1  \n",
              "24      0         0            Laborers               2      1  \n",
              "25      1         0             Unknown               2      1  \n",
              "26      1         0             Unknown               2      1  \n",
              "27      1         0             Unknown               2      1  \n",
              "28      0         0  Highskilltechstaff               2      1  \n",
              "29      0         0            Managers               2      1  \n",
              "30      0         0       Cleaningstaff               2      1  \n",
              "31      1         1             Unknown               2      1  \n",
              "32      0         0            Laborers               1      1  \n",
              "33      0         0          Salesstaff               3      1  \n",
              "34      0         0             Unknown               2      1  \n",
              "35      0         0             Drivers               2      1  \n",
              "36      0         0             Drivers               2      1  \n",
              "37      0         0             Unknown               2      1  \n",
              "38      1         0            Laborers               2      1  \n",
              "39      1         0             Unknown               1      1  \n",
              "40      1         0             Unknown               4      1  \n",
              "41      0         0             Unknown               1      1  \n",
              "42      0         0             Unknown               1      1  \n",
              "43      0         0             Unknown               1      1  \n",
              "44      1         0    LowskillLaborers               3      1  \n",
              "45      1         0    LowskillLaborers               3      1  \n",
              "46      0         0         Accountants               3      1  \n",
              "47      0         0            Laborers               3      1  \n",
              "48      0         0            Laborers               3      1  \n",
              "49      0         0            Laborers               2      1  "
            ]
          },
          "execution_count": 11,
          "metadata": {},
          "output_type": "execute_result"
        }
      ],
      "source": [
        "cc_merged.head(50)"
      ]
    },
    {
      "cell_type": "markdown",
      "metadata": {
        "id": "Li1QtqV8KWiF"
      },
      "source": [
        "# **Splitting the Dataset into X and y :**"
      ]
    },
    {
      "cell_type": "code",
      "execution_count": 12,
      "metadata": {
        "id": "7VNLF93ZQHFt"
      },
      "outputs": [],
      "source": [
        "# Assuming your dataset is stored in a DataFrame called 'df'\n",
        "# X will contain the features, and y will contain the target variable\n",
        "\n",
        "X = cc_merged.drop(columns=['label'])  # Exclude the 'label' column to get the features\n",
        "y = cc_merged['label']  # Select only the 'label' column as the target variable\n"
      ]
    },
    {
      "cell_type": "code",
      "execution_count": 13,
      "metadata": {
        "colab": {
          "base_uri": "https://localhost:8080/"
        },
        "id": "gJ1anxkSUO8U",
        "outputId": "a2dcc371-fd15-44ee-ea01-52f7750f3927"
      },
      "outputs": [
        {
          "name": "stdout",
          "output_type": "stream",
          "text": [
            "       Ind_ID GENDER Car_Owner Propert_Owner  CHILDREN  Annual_income  \\\n",
            "0     5008827      M         Y             Y         0   180000.00000   \n",
            "1     5009744      F         Y             N         0   315000.00000   \n",
            "2     5009746      F         Y             N         0   315000.00000   \n",
            "3     5009749      F         Y             N         0   191399.32623   \n",
            "4     5009752      F         Y             N         0   315000.00000   \n",
            "...       ...    ...       ...           ...       ...            ...   \n",
            "1543  5028645      F         N             Y         0   191399.32623   \n",
            "1544  5023655      F         N             N         0   225000.00000   \n",
            "1545  5115992      M         Y             Y         2   180000.00000   \n",
            "1546  5118219      M         Y             N         0   270000.00000   \n",
            "1547  5053790      F         Y             Y         0   225000.00000   \n",
            "\n",
            "              Type_Income                  EDUCATION    Marital_status  \\\n",
            "0               Pensioner            Highereducation           Married   \n",
            "1     Commercialassociate            Highereducation           Married   \n",
            "2     Commercialassociate            Highereducation           Married   \n",
            "3     Commercialassociate            Highereducation           Married   \n",
            "4     Commercialassociate            Highereducation           Married   \n",
            "...                   ...                        ...               ...   \n",
            "1543  Commercialassociate            Highereducation           Married   \n",
            "1544  Commercialassociate           Incompletehigher  Singlenotmarried   \n",
            "1545              Working            Highereducation           Married   \n",
            "1546              Working  Secondarysecondaryspecial     Civilmarriage   \n",
            "1547              Working            Highereducation           Married   \n",
            "\n",
            "        Housing_type  Birthday_count  Employed_days  Mobile_phone  Work_Phone  \\\n",
            "0     Houseapartment    -18772.00000         365243             1           0   \n",
            "1     Houseapartment    -13557.00000           -586             1           1   \n",
            "2     Houseapartment    191399.32623           -586             1           1   \n",
            "3     Houseapartment    -13557.00000           -586             1           1   \n",
            "4     Houseapartment    -13557.00000           -586             1           1   \n",
            "...              ...             ...            ...           ...         ...   \n",
            "1543  Houseapartment    -11957.00000          -2182             1           0   \n",
            "1544  Houseapartment    -10229.00000          -1209             1           0   \n",
            "1545  Houseapartment    -13174.00000          -2477             1           0   \n",
            "1546  Houseapartment    -15292.00000           -645             1           1   \n",
            "1547  Houseapartment    -16601.00000          -2859             1           0   \n",
            "\n",
            "      Phone  EMAIL_ID Type_Occupation  Family_Members  \n",
            "0         0         0         Unknown               2  \n",
            "1         1         0         Unknown               2  \n",
            "2         1         0         Unknown               2  \n",
            "3         1         0         Unknown               2  \n",
            "4         1         0         Unknown               2  \n",
            "...     ...       ...             ...             ...  \n",
            "1543      0         0        Managers               2  \n",
            "1544      0         0     Accountants               1  \n",
            "1545      0         0        Managers               4  \n",
            "1546      1         0         Drivers               2  \n",
            "1547      0         0         Unknown               2  \n",
            "\n",
            "[1548 rows x 18 columns]\n"
          ]
        }
      ],
      "source": [
        "print(X)"
      ]
    },
    {
      "cell_type": "markdown",
      "metadata": {
        "id": "_kq3OoW7jsd1"
      },
      "source": [
        "# **Encoding categorical data**"
      ]
    },
    {
      "cell_type": "code",
      "execution_count": 14,
      "metadata": {
        "id": "2vi3KflojzVJ"
      },
      "outputs": [],
      "source": [
        "from sklearn.compose import ColumnTransformer\n",
        "from sklearn.preprocessing import OneHotEncoder\n",
        "\n",
        "categorical_cols = [1, 2, 3, 6, 7, 8, 9, 16]\n",
        "# Initialize OneHotEncoder with handle_unknown='ignore'\n",
        "encoder = ColumnTransformer(transformers=[('encoder', OneHotEncoder(sparse_output=False, handle_unknown='ignore'), categorical_cols)], remainder='passthrough')\n",
        "\n",
        "# Fit and transform the data\n",
        "X = encoder.fit_transform(X)"
      ]
    },
    {
      "cell_type": "code",
      "execution_count": 15,
      "metadata": {
        "colab": {
          "base_uri": "https://localhost:8080/"
        },
        "id": "q2GkWNUhlxpM",
        "outputId": "545a5ff6-e5e7-44af-9ea2-d2ba986041f6"
      },
      "outputs": [
        {
          "name": "stdout",
          "output_type": "stream",
          "text": [
            "[[0. 1. 0. ... 0. 0. 2.]\n",
            " [1. 0. 0. ... 1. 0. 2.]\n",
            " [1. 0. 0. ... 1. 0. 2.]\n",
            " ...\n",
            " [0. 1. 0. ... 0. 0. 4.]\n",
            " [0. 1. 0. ... 1. 0. 2.]\n",
            " [1. 0. 0. ... 0. 0. 2.]]\n"
          ]
        }
      ],
      "source": [
        "print(X)"
      ]
    },
    {
      "cell_type": "markdown",
      "metadata": {
        "id": "gYPUm4H-kd9E"
      },
      "source": [
        "# **Splitting the dataset into the Training set and Test set**"
      ]
    },
    {
      "cell_type": "code",
      "execution_count": 16,
      "metadata": {
        "id": "rRzelPCgkfz1"
      },
      "outputs": [],
      "source": [
        "from sklearn.model_selection import train_test_split\n",
        "\n",
        "X_train, X_test, y_train, y_test = train_test_split(X, y, test_size = 0.2, random_state = 1)"
      ]
    },
    {
      "cell_type": "code",
      "execution_count": 17,
      "metadata": {
        "colab": {
          "base_uri": "https://localhost:8080/"
        },
        "id": "9qQk6RCRknqv",
        "outputId": "debafb30-e3b1-4e92-d101-736f172c7848"
      },
      "outputs": [
        {
          "name": "stdout",
          "output_type": "stream",
          "text": [
            "[[1. 0. 1. ... 1. 0. 2.]\n",
            " [1. 0. 1. ... 0. 0. 1.]\n",
            " [1. 0. 1. ... 0. 1. 2.]\n",
            " ...\n",
            " [1. 0. 0. ... 0. 0. 2.]\n",
            " [1. 0. 1. ... 0. 0. 2.]\n",
            " [0. 1. 1. ... 0. 0. 1.]]\n"
          ]
        }
      ],
      "source": [
        "print(X_train)"
      ]
    },
    {
      "cell_type": "code",
      "execution_count": 18,
      "metadata": {
        "colab": {
          "base_uri": "https://localhost:8080/"
        },
        "id": "wPykoMWbl3nb",
        "outputId": "6054e647-e72d-421c-83cd-6ae2ab6d558b"
      },
      "outputs": [
        {
          "name": "stdout",
          "output_type": "stream",
          "text": [
            "[[0. 1. 0. ... 0. 0. 2.]\n",
            " [1. 0. 1. ... 1. 0. 2.]\n",
            " [1. 0. 0. ... 0. 0. 2.]\n",
            " ...\n",
            " [1. 0. 0. ... 0. 0. 1.]\n",
            " [1. 0. 0. ... 0. 0. 2.]\n",
            " [1. 0. 1. ... 0. 0. 2.]]\n"
          ]
        }
      ],
      "source": [
        "print(X_test)"
      ]
    },
    {
      "cell_type": "code",
      "execution_count": 19,
      "metadata": {
        "colab": {
          "base_uri": "https://localhost:8080/"
        },
        "id": "dA7oOsyomCPg",
        "outputId": "9d55318b-bde1-4d9d-bab9-cab1c6cf5499"
      },
      "outputs": [
        {
          "name": "stdout",
          "output_type": "stream",
          "text": [
            "1431    0\n",
            "614     0\n",
            "1505    0\n",
            "978     0\n",
            "1302    0\n",
            "       ..\n",
            "715     0\n",
            "905     0\n",
            "1096    0\n",
            "235     0\n",
            "1061    0\n",
            "Name: label, Length: 1238, dtype: int64\n"
          ]
        }
      ],
      "source": [
        "print(y_train)"
      ]
    },
    {
      "cell_type": "code",
      "execution_count": 20,
      "metadata": {
        "colab": {
          "base_uri": "https://localhost:8080/"
        },
        "id": "_Tpn8QlamANg",
        "outputId": "ec6195a1-203e-4591-97f8-27152b6085b1"
      },
      "outputs": [
        {
          "name": "stdout",
          "output_type": "stream",
          "text": [
            "531     0\n",
            "286     0\n",
            "386     0\n",
            "718     0\n",
            "248     0\n",
            "       ..\n",
            "487     0\n",
            "372     0\n",
            "1085    0\n",
            "683     0\n",
            "422     0\n",
            "Name: label, Length: 310, dtype: int64\n"
          ]
        }
      ],
      "source": [
        "print(y_test)"
      ]
    },
    {
      "cell_type": "markdown",
      "metadata": {
        "id": "Gsww4wXcmk_V"
      },
      "source": [
        "# **Feature Scaling**"
      ]
    },
    {
      "cell_type": "code",
      "execution_count": 21,
      "metadata": {
        "id": "tpJ3EUW1mnMN"
      },
      "outputs": [],
      "source": [
        "from sklearn.preprocessing import StandardScaler\n",
        "\n",
        "columns_to_scale = [5, 11]\n",
        "\n",
        "# Create an instance of StandardScaler\n",
        "sc = StandardScaler()\n",
        "\n",
        "X_train[:, columns_to_scale] = sc.fit_transform(X_train[:, columns_to_scale])\n",
        "X_test[:, columns_to_scale] = sc.transform(X_test[:, columns_to_scale])\n",
        "\n"
      ]
    },
    {
      "cell_type": "code",
      "execution_count": 22,
      "metadata": {
        "colab": {
          "base_uri": "https://localhost:8080/"
        },
        "id": "q10zg3_4p7oW",
        "outputId": "c0b750eb-7b7a-484a-852a-9eb034487279"
      },
      "outputs": [
        {
          "name": "stdout",
          "output_type": "stream",
          "text": [
            "[[1. 0. 1. ... 1. 0. 2.]\n",
            " [1. 0. 1. ... 0. 0. 1.]\n",
            " [1. 0. 1. ... 0. 1. 2.]\n",
            " ...\n",
            " [1. 0. 0. ... 0. 0. 2.]\n",
            " [1. 0. 1. ... 0. 0. 2.]\n",
            " [0. 1. 1. ... 0. 0. 1.]]\n"
          ]
        }
      ],
      "source": [
        "print(X_train)"
      ]
    },
    {
      "cell_type": "code",
      "execution_count": 23,
      "metadata": {
        "colab": {
          "base_uri": "https://localhost:8080/"
        },
        "id": "wLV4WUPWp_IQ",
        "outputId": "3779d0b8-6c47-4a30-f99d-0ed122555778"
      },
      "outputs": [
        {
          "name": "stdout",
          "output_type": "stream",
          "text": [
            "[[0. 1. 0. ... 0. 0. 2.]\n",
            " [1. 0. 1. ... 1. 0. 2.]\n",
            " [1. 0. 0. ... 0. 0. 2.]\n",
            " ...\n",
            " [1. 0. 0. ... 0. 0. 1.]\n",
            " [1. 0. 0. ... 0. 0. 2.]\n",
            " [1. 0. 1. ... 0. 0. 2.]]\n"
          ]
        }
      ],
      "source": [
        "print(X_test)"
      ]
    },
    {
      "cell_type": "markdown",
      "metadata": {
        "id": "cFH80I3YqKJs"
      },
      "source": [
        "# **Training Various Models :**"
      ]
    },
    {
      "cell_type": "markdown",
      "metadata": {
        "id": "VxJxlcGEqSKV"
      },
      "source": [
        "## Logistic Regression Classification Model -"
      ]
    },
    {
      "cell_type": "code",
      "execution_count": 24,
      "metadata": {
        "colab": {
          "base_uri": "https://localhost:8080/",
          "height": 75
        },
        "id": "6imIU2zsql7f",
        "outputId": "a88be3f2-ce2d-4af0-d703-7230f801c94b"
      },
      "outputs": [
        {
          "data": {
            "text/html": [
              "<style>#sk-container-id-1 {color: black;background-color: white;}#sk-container-id-1 pre{padding: 0;}#sk-container-id-1 div.sk-toggleable {background-color: white;}#sk-container-id-1 label.sk-toggleable__label {cursor: pointer;display: block;width: 100%;margin-bottom: 0;padding: 0.3em;box-sizing: border-box;text-align: center;}#sk-container-id-1 label.sk-toggleable__label-arrow:before {content: \"▸\";float: left;margin-right: 0.25em;color: #696969;}#sk-container-id-1 label.sk-toggleable__label-arrow:hover:before {color: black;}#sk-container-id-1 div.sk-estimator:hover label.sk-toggleable__label-arrow:before {color: black;}#sk-container-id-1 div.sk-toggleable__content {max-height: 0;max-width: 0;overflow: hidden;text-align: left;background-color: #f0f8ff;}#sk-container-id-1 div.sk-toggleable__content pre {margin: 0.2em;color: black;border-radius: 0.25em;background-color: #f0f8ff;}#sk-container-id-1 input.sk-toggleable__control:checked~div.sk-toggleable__content {max-height: 200px;max-width: 100%;overflow: auto;}#sk-container-id-1 input.sk-toggleable__control:checked~label.sk-toggleable__label-arrow:before {content: \"▾\";}#sk-container-id-1 div.sk-estimator input.sk-toggleable__control:checked~label.sk-toggleable__label {background-color: #d4ebff;}#sk-container-id-1 div.sk-label input.sk-toggleable__control:checked~label.sk-toggleable__label {background-color: #d4ebff;}#sk-container-id-1 input.sk-hidden--visually {border: 0;clip: rect(1px 1px 1px 1px);clip: rect(1px, 1px, 1px, 1px);height: 1px;margin: -1px;overflow: hidden;padding: 0;position: absolute;width: 1px;}#sk-container-id-1 div.sk-estimator {font-family: monospace;background-color: #f0f8ff;border: 1px dotted black;border-radius: 0.25em;box-sizing: border-box;margin-bottom: 0.5em;}#sk-container-id-1 div.sk-estimator:hover {background-color: #d4ebff;}#sk-container-id-1 div.sk-parallel-item::after {content: \"\";width: 100%;border-bottom: 1px solid gray;flex-grow: 1;}#sk-container-id-1 div.sk-label:hover label.sk-toggleable__label {background-color: #d4ebff;}#sk-container-id-1 div.sk-serial::before {content: \"\";position: absolute;border-left: 1px solid gray;box-sizing: border-box;top: 0;bottom: 0;left: 50%;z-index: 0;}#sk-container-id-1 div.sk-serial {display: flex;flex-direction: column;align-items: center;background-color: white;padding-right: 0.2em;padding-left: 0.2em;position: relative;}#sk-container-id-1 div.sk-item {position: relative;z-index: 1;}#sk-container-id-1 div.sk-parallel {display: flex;align-items: stretch;justify-content: center;background-color: white;position: relative;}#sk-container-id-1 div.sk-item::before, #sk-container-id-1 div.sk-parallel-item::before {content: \"\";position: absolute;border-left: 1px solid gray;box-sizing: border-box;top: 0;bottom: 0;left: 50%;z-index: -1;}#sk-container-id-1 div.sk-parallel-item {display: flex;flex-direction: column;z-index: 1;position: relative;background-color: white;}#sk-container-id-1 div.sk-parallel-item:first-child::after {align-self: flex-end;width: 50%;}#sk-container-id-1 div.sk-parallel-item:last-child::after {align-self: flex-start;width: 50%;}#sk-container-id-1 div.sk-parallel-item:only-child::after {width: 0;}#sk-container-id-1 div.sk-dashed-wrapped {border: 1px dashed gray;margin: 0 0.4em 0.5em 0.4em;box-sizing: border-box;padding-bottom: 0.4em;background-color: white;}#sk-container-id-1 div.sk-label label {font-family: monospace;font-weight: bold;display: inline-block;line-height: 1.2em;}#sk-container-id-1 div.sk-label-container {text-align: center;}#sk-container-id-1 div.sk-container {/* jupyter's `normalize.less` sets `[hidden] { display: none; }` but bootstrap.min.css set `[hidden] { display: none !important; }` so we also need the `!important` here to be able to override the default hidden behavior on the sphinx rendered scikit-learn.org. See: https://github.com/scikit-learn/scikit-learn/issues/21755 */display: inline-block !important;position: relative;}#sk-container-id-1 div.sk-text-repr-fallback {display: none;}</style><div id=\"sk-container-id-1\" class=\"sk-top-container\"><div class=\"sk-text-repr-fallback\"><pre>LogisticRegression(random_state=0)</pre><b>In a Jupyter environment, please rerun this cell to show the HTML representation or trust the notebook. <br />On GitHub, the HTML representation is unable to render, please try loading this page with nbviewer.org.</b></div><div class=\"sk-container\" hidden><div class=\"sk-item\"><div class=\"sk-estimator sk-toggleable\"><input class=\"sk-toggleable__control sk-hidden--visually\" id=\"sk-estimator-id-1\" type=\"checkbox\" checked><label for=\"sk-estimator-id-1\" class=\"sk-toggleable__label sk-toggleable__label-arrow\">LogisticRegression</label><div class=\"sk-toggleable__content\"><pre>LogisticRegression(random_state=0)</pre></div></div></div></div></div>"
            ],
            "text/plain": [
              "LogisticRegression(random_state=0)"
            ]
          },
          "execution_count": 24,
          "metadata": {},
          "output_type": "execute_result"
        }
      ],
      "source": [
        "from sklearn.linear_model import LogisticRegression\n",
        "\n",
        "classifier = LogisticRegression(random_state = 0)\n",
        "classifier.fit(X_train, y_train)"
      ]
    },
    {
      "cell_type": "markdown",
      "metadata": {
        "id": "Xi9zGTrTuFKA"
      },
      "source": [
        "### `Predicting the Test set results`"
      ]
    },
    {
      "cell_type": "code",
      "execution_count": 25,
      "metadata": {
        "id": "3sYT_88NuGts"
      },
      "outputs": [],
      "source": [
        "y_pred = classifier.predict(X_test)"
      ]
    },
    {
      "cell_type": "markdown",
      "metadata": {
        "id": "QSeDjmdYvEY5"
      },
      "source": [
        "### Making the Confusion Matrix"
      ]
    },
    {
      "cell_type": "code",
      "execution_count": 26,
      "metadata": {
        "colab": {
          "base_uri": "https://localhost:8080/"
        },
        "id": "kYSioDLGvJ_H",
        "outputId": "c0b2b2c7-0b16-4621-8ee6-8feb9df8811e"
      },
      "outputs": [
        {
          "name": "stdout",
          "output_type": "stream",
          "text": [
            "[[279   0]\n",
            " [ 31   0]]\n"
          ]
        },
        {
          "data": {
            "text/plain": [
              "0.9"
            ]
          },
          "execution_count": 26,
          "metadata": {},
          "output_type": "execute_result"
        }
      ],
      "source": [
        "from sklearn.metrics import confusion_matrix, accuracy_score\n",
        "\n",
        "cm = confusion_matrix(y_test, y_pred)\n",
        "print(cm)\n",
        "accuracy_score(y_test, y_pred)"
      ]
    },
    {
      "cell_type": "markdown",
      "metadata": {
        "id": "PBxhZU2C70hn"
      },
      "source": [
        "\n",
        "\n",
        "---\n",
        "\n"
      ]
    },
    {
      "cell_type": "markdown",
      "metadata": {
        "id": "Ej_UieZz74uO"
      },
      "source": [
        "##Decision Tree Classification model -"
      ]
    },
    {
      "cell_type": "code",
      "execution_count": 27,
      "metadata": {
        "colab": {
          "base_uri": "https://localhost:8080/",
          "height": 75
        },
        "id": "paafm47y8AmL",
        "outputId": "7dc3334a-2916-4b6b-dd43-11240d58630a"
      },
      "outputs": [
        {
          "data": {
            "text/html": [
              "<style>#sk-container-id-2 {color: black;background-color: white;}#sk-container-id-2 pre{padding: 0;}#sk-container-id-2 div.sk-toggleable {background-color: white;}#sk-container-id-2 label.sk-toggleable__label {cursor: pointer;display: block;width: 100%;margin-bottom: 0;padding: 0.3em;box-sizing: border-box;text-align: center;}#sk-container-id-2 label.sk-toggleable__label-arrow:before {content: \"▸\";float: left;margin-right: 0.25em;color: #696969;}#sk-container-id-2 label.sk-toggleable__label-arrow:hover:before {color: black;}#sk-container-id-2 div.sk-estimator:hover label.sk-toggleable__label-arrow:before {color: black;}#sk-container-id-2 div.sk-toggleable__content {max-height: 0;max-width: 0;overflow: hidden;text-align: left;background-color: #f0f8ff;}#sk-container-id-2 div.sk-toggleable__content pre {margin: 0.2em;color: black;border-radius: 0.25em;background-color: #f0f8ff;}#sk-container-id-2 input.sk-toggleable__control:checked~div.sk-toggleable__content {max-height: 200px;max-width: 100%;overflow: auto;}#sk-container-id-2 input.sk-toggleable__control:checked~label.sk-toggleable__label-arrow:before {content: \"▾\";}#sk-container-id-2 div.sk-estimator input.sk-toggleable__control:checked~label.sk-toggleable__label {background-color: #d4ebff;}#sk-container-id-2 div.sk-label input.sk-toggleable__control:checked~label.sk-toggleable__label {background-color: #d4ebff;}#sk-container-id-2 input.sk-hidden--visually {border: 0;clip: rect(1px 1px 1px 1px);clip: rect(1px, 1px, 1px, 1px);height: 1px;margin: -1px;overflow: hidden;padding: 0;position: absolute;width: 1px;}#sk-container-id-2 div.sk-estimator {font-family: monospace;background-color: #f0f8ff;border: 1px dotted black;border-radius: 0.25em;box-sizing: border-box;margin-bottom: 0.5em;}#sk-container-id-2 div.sk-estimator:hover {background-color: #d4ebff;}#sk-container-id-2 div.sk-parallel-item::after {content: \"\";width: 100%;border-bottom: 1px solid gray;flex-grow: 1;}#sk-container-id-2 div.sk-label:hover label.sk-toggleable__label {background-color: #d4ebff;}#sk-container-id-2 div.sk-serial::before {content: \"\";position: absolute;border-left: 1px solid gray;box-sizing: border-box;top: 0;bottom: 0;left: 50%;z-index: 0;}#sk-container-id-2 div.sk-serial {display: flex;flex-direction: column;align-items: center;background-color: white;padding-right: 0.2em;padding-left: 0.2em;position: relative;}#sk-container-id-2 div.sk-item {position: relative;z-index: 1;}#sk-container-id-2 div.sk-parallel {display: flex;align-items: stretch;justify-content: center;background-color: white;position: relative;}#sk-container-id-2 div.sk-item::before, #sk-container-id-2 div.sk-parallel-item::before {content: \"\";position: absolute;border-left: 1px solid gray;box-sizing: border-box;top: 0;bottom: 0;left: 50%;z-index: -1;}#sk-container-id-2 div.sk-parallel-item {display: flex;flex-direction: column;z-index: 1;position: relative;background-color: white;}#sk-container-id-2 div.sk-parallel-item:first-child::after {align-self: flex-end;width: 50%;}#sk-container-id-2 div.sk-parallel-item:last-child::after {align-self: flex-start;width: 50%;}#sk-container-id-2 div.sk-parallel-item:only-child::after {width: 0;}#sk-container-id-2 div.sk-dashed-wrapped {border: 1px dashed gray;margin: 0 0.4em 0.5em 0.4em;box-sizing: border-box;padding-bottom: 0.4em;background-color: white;}#sk-container-id-2 div.sk-label label {font-family: monospace;font-weight: bold;display: inline-block;line-height: 1.2em;}#sk-container-id-2 div.sk-label-container {text-align: center;}#sk-container-id-2 div.sk-container {/* jupyter's `normalize.less` sets `[hidden] { display: none; }` but bootstrap.min.css set `[hidden] { display: none !important; }` so we also need the `!important` here to be able to override the default hidden behavior on the sphinx rendered scikit-learn.org. See: https://github.com/scikit-learn/scikit-learn/issues/21755 */display: inline-block !important;position: relative;}#sk-container-id-2 div.sk-text-repr-fallback {display: none;}</style><div id=\"sk-container-id-2\" class=\"sk-top-container\"><div class=\"sk-text-repr-fallback\"><pre>DecisionTreeClassifier(criterion=&#x27;entropy&#x27;, random_state=0)</pre><b>In a Jupyter environment, please rerun this cell to show the HTML representation or trust the notebook. <br />On GitHub, the HTML representation is unable to render, please try loading this page with nbviewer.org.</b></div><div class=\"sk-container\" hidden><div class=\"sk-item\"><div class=\"sk-estimator sk-toggleable\"><input class=\"sk-toggleable__control sk-hidden--visually\" id=\"sk-estimator-id-2\" type=\"checkbox\" checked><label for=\"sk-estimator-id-2\" class=\"sk-toggleable__label sk-toggleable__label-arrow\">DecisionTreeClassifier</label><div class=\"sk-toggleable__content\"><pre>DecisionTreeClassifier(criterion=&#x27;entropy&#x27;, random_state=0)</pre></div></div></div></div></div>"
            ],
            "text/plain": [
              "DecisionTreeClassifier(criterion='entropy', random_state=0)"
            ]
          },
          "execution_count": 27,
          "metadata": {},
          "output_type": "execute_result"
        }
      ],
      "source": [
        "from sklearn.tree import DecisionTreeClassifier\n",
        "classifier = DecisionTreeClassifier(criterion = 'entropy', random_state = 0)\n",
        "classifier.fit(X_train, y_train)"
      ]
    },
    {
      "cell_type": "markdown",
      "metadata": {
        "id": "SS8g8eXR8mTz"
      },
      "source": [
        "### Predicting the Test set results"
      ]
    },
    {
      "cell_type": "code",
      "execution_count": 28,
      "metadata": {
        "id": "PfNgm6p185oH"
      },
      "outputs": [],
      "source": [
        "y_pred = classifier.predict(X_test)"
      ]
    },
    {
      "cell_type": "markdown",
      "metadata": {
        "id": "pGIXaTME8-Dz"
      },
      "source": [
        "### Making the Confusion Matrix"
      ]
    },
    {
      "cell_type": "code",
      "execution_count": 29,
      "metadata": {
        "colab": {
          "base_uri": "https://localhost:8080/"
        },
        "id": "oUp0VKm59CRp",
        "outputId": "6246482e-aac7-4665-d05f-8fde1176e72c"
      },
      "outputs": [
        {
          "name": "stdout",
          "output_type": "stream",
          "text": [
            "[[260  19]\n",
            " [ 16  15]]\n"
          ]
        },
        {
          "data": {
            "text/plain": [
              "0.8870967741935484"
            ]
          },
          "execution_count": 29,
          "metadata": {},
          "output_type": "execute_result"
        }
      ],
      "source": [
        "from sklearn.metrics import confusion_matrix, accuracy_score\n",
        "cm = confusion_matrix(y_test, y_pred)\n",
        "print(cm)\n",
        "accuracy_score(y_test, y_pred)"
      ]
    },
    {
      "cell_type": "markdown",
      "metadata": {
        "id": "L5EDVDYz9GMc"
      },
      "source": [
        "\n",
        "\n",
        "---\n",
        "\n"
      ]
    },
    {
      "cell_type": "markdown",
      "metadata": {
        "id": "_uVMCu-59HmV"
      },
      "source": [
        "## Kernel SVM Model -"
      ]
    },
    {
      "cell_type": "code",
      "execution_count": 30,
      "metadata": {
        "colab": {
          "base_uri": "https://localhost:8080/",
          "height": 75
        },
        "id": "qS8jTDaI9px2",
        "outputId": "c2d8cd9b-1fa3-4b13-9927-475332c78b56"
      },
      "outputs": [
        {
          "data": {
            "text/html": [
              "<style>#sk-container-id-3 {color: black;background-color: white;}#sk-container-id-3 pre{padding: 0;}#sk-container-id-3 div.sk-toggleable {background-color: white;}#sk-container-id-3 label.sk-toggleable__label {cursor: pointer;display: block;width: 100%;margin-bottom: 0;padding: 0.3em;box-sizing: border-box;text-align: center;}#sk-container-id-3 label.sk-toggleable__label-arrow:before {content: \"▸\";float: left;margin-right: 0.25em;color: #696969;}#sk-container-id-3 label.sk-toggleable__label-arrow:hover:before {color: black;}#sk-container-id-3 div.sk-estimator:hover label.sk-toggleable__label-arrow:before {color: black;}#sk-container-id-3 div.sk-toggleable__content {max-height: 0;max-width: 0;overflow: hidden;text-align: left;background-color: #f0f8ff;}#sk-container-id-3 div.sk-toggleable__content pre {margin: 0.2em;color: black;border-radius: 0.25em;background-color: #f0f8ff;}#sk-container-id-3 input.sk-toggleable__control:checked~div.sk-toggleable__content {max-height: 200px;max-width: 100%;overflow: auto;}#sk-container-id-3 input.sk-toggleable__control:checked~label.sk-toggleable__label-arrow:before {content: \"▾\";}#sk-container-id-3 div.sk-estimator input.sk-toggleable__control:checked~label.sk-toggleable__label {background-color: #d4ebff;}#sk-container-id-3 div.sk-label input.sk-toggleable__control:checked~label.sk-toggleable__label {background-color: #d4ebff;}#sk-container-id-3 input.sk-hidden--visually {border: 0;clip: rect(1px 1px 1px 1px);clip: rect(1px, 1px, 1px, 1px);height: 1px;margin: -1px;overflow: hidden;padding: 0;position: absolute;width: 1px;}#sk-container-id-3 div.sk-estimator {font-family: monospace;background-color: #f0f8ff;border: 1px dotted black;border-radius: 0.25em;box-sizing: border-box;margin-bottom: 0.5em;}#sk-container-id-3 div.sk-estimator:hover {background-color: #d4ebff;}#sk-container-id-3 div.sk-parallel-item::after {content: \"\";width: 100%;border-bottom: 1px solid gray;flex-grow: 1;}#sk-container-id-3 div.sk-label:hover label.sk-toggleable__label {background-color: #d4ebff;}#sk-container-id-3 div.sk-serial::before {content: \"\";position: absolute;border-left: 1px solid gray;box-sizing: border-box;top: 0;bottom: 0;left: 50%;z-index: 0;}#sk-container-id-3 div.sk-serial {display: flex;flex-direction: column;align-items: center;background-color: white;padding-right: 0.2em;padding-left: 0.2em;position: relative;}#sk-container-id-3 div.sk-item {position: relative;z-index: 1;}#sk-container-id-3 div.sk-parallel {display: flex;align-items: stretch;justify-content: center;background-color: white;position: relative;}#sk-container-id-3 div.sk-item::before, #sk-container-id-3 div.sk-parallel-item::before {content: \"\";position: absolute;border-left: 1px solid gray;box-sizing: border-box;top: 0;bottom: 0;left: 50%;z-index: -1;}#sk-container-id-3 div.sk-parallel-item {display: flex;flex-direction: column;z-index: 1;position: relative;background-color: white;}#sk-container-id-3 div.sk-parallel-item:first-child::after {align-self: flex-end;width: 50%;}#sk-container-id-3 div.sk-parallel-item:last-child::after {align-self: flex-start;width: 50%;}#sk-container-id-3 div.sk-parallel-item:only-child::after {width: 0;}#sk-container-id-3 div.sk-dashed-wrapped {border: 1px dashed gray;margin: 0 0.4em 0.5em 0.4em;box-sizing: border-box;padding-bottom: 0.4em;background-color: white;}#sk-container-id-3 div.sk-label label {font-family: monospace;font-weight: bold;display: inline-block;line-height: 1.2em;}#sk-container-id-3 div.sk-label-container {text-align: center;}#sk-container-id-3 div.sk-container {/* jupyter's `normalize.less` sets `[hidden] { display: none; }` but bootstrap.min.css set `[hidden] { display: none !important; }` so we also need the `!important` here to be able to override the default hidden behavior on the sphinx rendered scikit-learn.org. See: https://github.com/scikit-learn/scikit-learn/issues/21755 */display: inline-block !important;position: relative;}#sk-container-id-3 div.sk-text-repr-fallback {display: none;}</style><div id=\"sk-container-id-3\" class=\"sk-top-container\"><div class=\"sk-text-repr-fallback\"><pre>SVC(random_state=0)</pre><b>In a Jupyter environment, please rerun this cell to show the HTML representation or trust the notebook. <br />On GitHub, the HTML representation is unable to render, please try loading this page with nbviewer.org.</b></div><div class=\"sk-container\" hidden><div class=\"sk-item\"><div class=\"sk-estimator sk-toggleable\"><input class=\"sk-toggleable__control sk-hidden--visually\" id=\"sk-estimator-id-3\" type=\"checkbox\" checked><label for=\"sk-estimator-id-3\" class=\"sk-toggleable__label sk-toggleable__label-arrow\">SVC</label><div class=\"sk-toggleable__content\"><pre>SVC(random_state=0)</pre></div></div></div></div></div>"
            ],
            "text/plain": [
              "SVC(random_state=0)"
            ]
          },
          "execution_count": 30,
          "metadata": {},
          "output_type": "execute_result"
        }
      ],
      "source": [
        "from sklearn.svm import SVC\n",
        "classifier = SVC(kernel = 'rbf', random_state = 0)\n",
        "classifier.fit(X_train, y_train)"
      ]
    },
    {
      "cell_type": "markdown",
      "metadata": {
        "id": "nEpKk68H9vkm"
      },
      "source": [
        "### Predicting the Test set results"
      ]
    },
    {
      "cell_type": "code",
      "execution_count": 31,
      "metadata": {
        "id": "0_tGk6xz9zj8"
      },
      "outputs": [],
      "source": [
        "y_pred = classifier.predict(X_test)"
      ]
    },
    {
      "cell_type": "markdown",
      "metadata": {
        "id": "gaSolxPO91o5"
      },
      "source": [
        "### Making the Confusion Matrix"
      ]
    },
    {
      "cell_type": "code",
      "execution_count": 32,
      "metadata": {
        "colab": {
          "base_uri": "https://localhost:8080/"
        },
        "id": "06XjDoLN95Vc",
        "outputId": "7769fd87-51a9-4810-c206-56fcdcc7509a"
      },
      "outputs": [
        {
          "name": "stdout",
          "output_type": "stream",
          "text": [
            "[[279   0]\n",
            " [ 31   0]]\n"
          ]
        },
        {
          "data": {
            "text/plain": [
              "0.9"
            ]
          },
          "execution_count": 32,
          "metadata": {},
          "output_type": "execute_result"
        }
      ],
      "source": [
        "from sklearn.metrics import confusion_matrix, accuracy_score\n",
        "cm = confusion_matrix(y_test, y_pred)\n",
        "print(cm)\n",
        "accuracy_score(y_test, y_pred)"
      ]
    },
    {
      "cell_type": "markdown",
      "metadata": {
        "id": "F9pz6per99-0"
      },
      "source": [
        "\n",
        "\n",
        "---\n",
        "\n"
      ]
    },
    {
      "cell_type": "markdown",
      "metadata": {
        "id": "ZA3oykoY-CCT"
      },
      "source": [
        "## SVM model -"
      ]
    },
    {
      "cell_type": "code",
      "execution_count": 33,
      "metadata": {
        "colab": {
          "base_uri": "https://localhost:8080/",
          "height": 75
        },
        "id": "8rYqLWJHCwK-",
        "outputId": "f7d33c99-a0f1-4e9f-8570-035bf74814a9"
      },
      "outputs": [
        {
          "data": {
            "text/html": [
              "<style>#sk-container-id-4 {color: black;background-color: white;}#sk-container-id-4 pre{padding: 0;}#sk-container-id-4 div.sk-toggleable {background-color: white;}#sk-container-id-4 label.sk-toggleable__label {cursor: pointer;display: block;width: 100%;margin-bottom: 0;padding: 0.3em;box-sizing: border-box;text-align: center;}#sk-container-id-4 label.sk-toggleable__label-arrow:before {content: \"▸\";float: left;margin-right: 0.25em;color: #696969;}#sk-container-id-4 label.sk-toggleable__label-arrow:hover:before {color: black;}#sk-container-id-4 div.sk-estimator:hover label.sk-toggleable__label-arrow:before {color: black;}#sk-container-id-4 div.sk-toggleable__content {max-height: 0;max-width: 0;overflow: hidden;text-align: left;background-color: #f0f8ff;}#sk-container-id-4 div.sk-toggleable__content pre {margin: 0.2em;color: black;border-radius: 0.25em;background-color: #f0f8ff;}#sk-container-id-4 input.sk-toggleable__control:checked~div.sk-toggleable__content {max-height: 200px;max-width: 100%;overflow: auto;}#sk-container-id-4 input.sk-toggleable__control:checked~label.sk-toggleable__label-arrow:before {content: \"▾\";}#sk-container-id-4 div.sk-estimator input.sk-toggleable__control:checked~label.sk-toggleable__label {background-color: #d4ebff;}#sk-container-id-4 div.sk-label input.sk-toggleable__control:checked~label.sk-toggleable__label {background-color: #d4ebff;}#sk-container-id-4 input.sk-hidden--visually {border: 0;clip: rect(1px 1px 1px 1px);clip: rect(1px, 1px, 1px, 1px);height: 1px;margin: -1px;overflow: hidden;padding: 0;position: absolute;width: 1px;}#sk-container-id-4 div.sk-estimator {font-family: monospace;background-color: #f0f8ff;border: 1px dotted black;border-radius: 0.25em;box-sizing: border-box;margin-bottom: 0.5em;}#sk-container-id-4 div.sk-estimator:hover {background-color: #d4ebff;}#sk-container-id-4 div.sk-parallel-item::after {content: \"\";width: 100%;border-bottom: 1px solid gray;flex-grow: 1;}#sk-container-id-4 div.sk-label:hover label.sk-toggleable__label {background-color: #d4ebff;}#sk-container-id-4 div.sk-serial::before {content: \"\";position: absolute;border-left: 1px solid gray;box-sizing: border-box;top: 0;bottom: 0;left: 50%;z-index: 0;}#sk-container-id-4 div.sk-serial {display: flex;flex-direction: column;align-items: center;background-color: white;padding-right: 0.2em;padding-left: 0.2em;position: relative;}#sk-container-id-4 div.sk-item {position: relative;z-index: 1;}#sk-container-id-4 div.sk-parallel {display: flex;align-items: stretch;justify-content: center;background-color: white;position: relative;}#sk-container-id-4 div.sk-item::before, #sk-container-id-4 div.sk-parallel-item::before {content: \"\";position: absolute;border-left: 1px solid gray;box-sizing: border-box;top: 0;bottom: 0;left: 50%;z-index: -1;}#sk-container-id-4 div.sk-parallel-item {display: flex;flex-direction: column;z-index: 1;position: relative;background-color: white;}#sk-container-id-4 div.sk-parallel-item:first-child::after {align-self: flex-end;width: 50%;}#sk-container-id-4 div.sk-parallel-item:last-child::after {align-self: flex-start;width: 50%;}#sk-container-id-4 div.sk-parallel-item:only-child::after {width: 0;}#sk-container-id-4 div.sk-dashed-wrapped {border: 1px dashed gray;margin: 0 0.4em 0.5em 0.4em;box-sizing: border-box;padding-bottom: 0.4em;background-color: white;}#sk-container-id-4 div.sk-label label {font-family: monospace;font-weight: bold;display: inline-block;line-height: 1.2em;}#sk-container-id-4 div.sk-label-container {text-align: center;}#sk-container-id-4 div.sk-container {/* jupyter's `normalize.less` sets `[hidden] { display: none; }` but bootstrap.min.css set `[hidden] { display: none !important; }` so we also need the `!important` here to be able to override the default hidden behavior on the sphinx rendered scikit-learn.org. See: https://github.com/scikit-learn/scikit-learn/issues/21755 */display: inline-block !important;position: relative;}#sk-container-id-4 div.sk-text-repr-fallback {display: none;}</style><div id=\"sk-container-id-4\" class=\"sk-top-container\"><div class=\"sk-text-repr-fallback\"><pre>SVC(kernel=&#x27;linear&#x27;, random_state=0)</pre><b>In a Jupyter environment, please rerun this cell to show the HTML representation or trust the notebook. <br />On GitHub, the HTML representation is unable to render, please try loading this page with nbviewer.org.</b></div><div class=\"sk-container\" hidden><div class=\"sk-item\"><div class=\"sk-estimator sk-toggleable\"><input class=\"sk-toggleable__control sk-hidden--visually\" id=\"sk-estimator-id-4\" type=\"checkbox\" checked><label for=\"sk-estimator-id-4\" class=\"sk-toggleable__label sk-toggleable__label-arrow\">SVC</label><div class=\"sk-toggleable__content\"><pre>SVC(kernel=&#x27;linear&#x27;, random_state=0)</pre></div></div></div></div></div>"
            ],
            "text/plain": [
              "SVC(kernel='linear', random_state=0)"
            ]
          },
          "execution_count": 33,
          "metadata": {},
          "output_type": "execute_result"
        }
      ],
      "source": [
        "from sklearn.svm import SVC\n",
        "classifier = SVC(kernel = 'linear', random_state = 0)\n",
        "classifier.fit(X_train, y_train)"
      ]
    },
    {
      "cell_type": "markdown",
      "metadata": {
        "id": "zVU8-mhRC0Mz"
      },
      "source": [
        "### Predicting the Test set results"
      ]
    },
    {
      "cell_type": "code",
      "execution_count": 34,
      "metadata": {
        "id": "CBCzuUUrC4ly"
      },
      "outputs": [],
      "source": [
        "y_pred = classifier.predict(X_test)"
      ]
    },
    {
      "cell_type": "markdown",
      "metadata": {
        "id": "oheW9JJCC_Rv"
      },
      "source": [
        "### Making the Confusion Matrix"
      ]
    },
    {
      "cell_type": "code",
      "execution_count": 35,
      "metadata": {
        "colab": {
          "base_uri": "https://localhost:8080/"
        },
        "id": "66plg1EJDBIR",
        "outputId": "eb79593d-6287-48fb-e62e-31a475272fd8"
      },
      "outputs": [
        {
          "name": "stdout",
          "output_type": "stream",
          "text": [
            "[[278   1]\n",
            " [ 31   0]]\n"
          ]
        },
        {
          "data": {
            "text/plain": [
              "0.896774193548387"
            ]
          },
          "execution_count": 35,
          "metadata": {},
          "output_type": "execute_result"
        }
      ],
      "source": [
        "from sklearn.metrics import confusion_matrix, accuracy_score\n",
        "cm = confusion_matrix(y_test, y_pred)\n",
        "print(cm)\n",
        "accuracy_score(y_test, y_pred)"
      ]
    },
    {
      "cell_type": "markdown",
      "metadata": {
        "id": "VI8qHs6VDESz"
      },
      "source": [
        "\n",
        "\n",
        "---\n",
        "\n"
      ]
    },
    {
      "cell_type": "markdown",
      "metadata": {
        "id": "87mlm9l_DFXy"
      },
      "source": [
        "## K-NN model"
      ]
    },
    {
      "cell_type": "code",
      "execution_count": 36,
      "metadata": {
        "colab": {
          "base_uri": "https://localhost:8080/",
          "height": 75
        },
        "id": "wOPoem2vDWrd",
        "outputId": "1ca90466-3c79-42b9-fbd1-1773238ff350"
      },
      "outputs": [
        {
          "data": {
            "text/html": [
              "<style>#sk-container-id-5 {color: black;background-color: white;}#sk-container-id-5 pre{padding: 0;}#sk-container-id-5 div.sk-toggleable {background-color: white;}#sk-container-id-5 label.sk-toggleable__label {cursor: pointer;display: block;width: 100%;margin-bottom: 0;padding: 0.3em;box-sizing: border-box;text-align: center;}#sk-container-id-5 label.sk-toggleable__label-arrow:before {content: \"▸\";float: left;margin-right: 0.25em;color: #696969;}#sk-container-id-5 label.sk-toggleable__label-arrow:hover:before {color: black;}#sk-container-id-5 div.sk-estimator:hover label.sk-toggleable__label-arrow:before {color: black;}#sk-container-id-5 div.sk-toggleable__content {max-height: 0;max-width: 0;overflow: hidden;text-align: left;background-color: #f0f8ff;}#sk-container-id-5 div.sk-toggleable__content pre {margin: 0.2em;color: black;border-radius: 0.25em;background-color: #f0f8ff;}#sk-container-id-5 input.sk-toggleable__control:checked~div.sk-toggleable__content {max-height: 200px;max-width: 100%;overflow: auto;}#sk-container-id-5 input.sk-toggleable__control:checked~label.sk-toggleable__label-arrow:before {content: \"▾\";}#sk-container-id-5 div.sk-estimator input.sk-toggleable__control:checked~label.sk-toggleable__label {background-color: #d4ebff;}#sk-container-id-5 div.sk-label input.sk-toggleable__control:checked~label.sk-toggleable__label {background-color: #d4ebff;}#sk-container-id-5 input.sk-hidden--visually {border: 0;clip: rect(1px 1px 1px 1px);clip: rect(1px, 1px, 1px, 1px);height: 1px;margin: -1px;overflow: hidden;padding: 0;position: absolute;width: 1px;}#sk-container-id-5 div.sk-estimator {font-family: monospace;background-color: #f0f8ff;border: 1px dotted black;border-radius: 0.25em;box-sizing: border-box;margin-bottom: 0.5em;}#sk-container-id-5 div.sk-estimator:hover {background-color: #d4ebff;}#sk-container-id-5 div.sk-parallel-item::after {content: \"\";width: 100%;border-bottom: 1px solid gray;flex-grow: 1;}#sk-container-id-5 div.sk-label:hover label.sk-toggleable__label {background-color: #d4ebff;}#sk-container-id-5 div.sk-serial::before {content: \"\";position: absolute;border-left: 1px solid gray;box-sizing: border-box;top: 0;bottom: 0;left: 50%;z-index: 0;}#sk-container-id-5 div.sk-serial {display: flex;flex-direction: column;align-items: center;background-color: white;padding-right: 0.2em;padding-left: 0.2em;position: relative;}#sk-container-id-5 div.sk-item {position: relative;z-index: 1;}#sk-container-id-5 div.sk-parallel {display: flex;align-items: stretch;justify-content: center;background-color: white;position: relative;}#sk-container-id-5 div.sk-item::before, #sk-container-id-5 div.sk-parallel-item::before {content: \"\";position: absolute;border-left: 1px solid gray;box-sizing: border-box;top: 0;bottom: 0;left: 50%;z-index: -1;}#sk-container-id-5 div.sk-parallel-item {display: flex;flex-direction: column;z-index: 1;position: relative;background-color: white;}#sk-container-id-5 div.sk-parallel-item:first-child::after {align-self: flex-end;width: 50%;}#sk-container-id-5 div.sk-parallel-item:last-child::after {align-self: flex-start;width: 50%;}#sk-container-id-5 div.sk-parallel-item:only-child::after {width: 0;}#sk-container-id-5 div.sk-dashed-wrapped {border: 1px dashed gray;margin: 0 0.4em 0.5em 0.4em;box-sizing: border-box;padding-bottom: 0.4em;background-color: white;}#sk-container-id-5 div.sk-label label {font-family: monospace;font-weight: bold;display: inline-block;line-height: 1.2em;}#sk-container-id-5 div.sk-label-container {text-align: center;}#sk-container-id-5 div.sk-container {/* jupyter's `normalize.less` sets `[hidden] { display: none; }` but bootstrap.min.css set `[hidden] { display: none !important; }` so we also need the `!important` here to be able to override the default hidden behavior on the sphinx rendered scikit-learn.org. See: https://github.com/scikit-learn/scikit-learn/issues/21755 */display: inline-block !important;position: relative;}#sk-container-id-5 div.sk-text-repr-fallback {display: none;}</style><div id=\"sk-container-id-5\" class=\"sk-top-container\"><div class=\"sk-text-repr-fallback\"><pre>KNeighborsClassifier()</pre><b>In a Jupyter environment, please rerun this cell to show the HTML representation or trust the notebook. <br />On GitHub, the HTML representation is unable to render, please try loading this page with nbviewer.org.</b></div><div class=\"sk-container\" hidden><div class=\"sk-item\"><div class=\"sk-estimator sk-toggleable\"><input class=\"sk-toggleable__control sk-hidden--visually\" id=\"sk-estimator-id-5\" type=\"checkbox\" checked><label for=\"sk-estimator-id-5\" class=\"sk-toggleable__label sk-toggleable__label-arrow\">KNeighborsClassifier</label><div class=\"sk-toggleable__content\"><pre>KNeighborsClassifier()</pre></div></div></div></div></div>"
            ],
            "text/plain": [
              "KNeighborsClassifier()"
            ]
          },
          "execution_count": 36,
          "metadata": {},
          "output_type": "execute_result"
        }
      ],
      "source": [
        "from sklearn.neighbors import KNeighborsClassifier\n",
        "classifier = KNeighborsClassifier(n_neighbors = 5, metric = 'minkowski', p = 2)\n",
        "classifier.fit(X_train, y_train)"
      ]
    },
    {
      "cell_type": "markdown",
      "metadata": {
        "id": "SBUxup_DDbLf"
      },
      "source": [
        "### Predicting the Test set results"
      ]
    },
    {
      "cell_type": "code",
      "execution_count": 37,
      "metadata": {
        "id": "N6bSw6ccDexh"
      },
      "outputs": [],
      "source": [
        "y_pred = classifier.predict(X_test)"
      ]
    },
    {
      "cell_type": "markdown",
      "metadata": {
        "id": "yi2Gsk3BDlWe"
      },
      "source": [
        "### Making the Confusion Matrix"
      ]
    },
    {
      "cell_type": "code",
      "execution_count": 38,
      "metadata": {
        "colab": {
          "base_uri": "https://localhost:8080/"
        },
        "id": "4GcyhEHLDnDG",
        "outputId": "23e3cb85-ea21-4498-ad63-487ebeed6e8a"
      },
      "outputs": [
        {
          "name": "stdout",
          "output_type": "stream",
          "text": [
            "[[261  18]\n",
            " [ 27   4]]\n"
          ]
        },
        {
          "data": {
            "text/plain": [
              "0.8548387096774194"
            ]
          },
          "execution_count": 38,
          "metadata": {},
          "output_type": "execute_result"
        }
      ],
      "source": [
        "from sklearn.metrics import confusion_matrix, accuracy_score\n",
        "cm = confusion_matrix(y_test, y_pred)\n",
        "print(cm)\n",
        "accuracy_score(y_test, y_pred)"
      ]
    },
    {
      "cell_type": "markdown",
      "metadata": {
        "id": "2DTGbYP0DsAE"
      },
      "source": [
        "\n",
        "\n",
        "---\n",
        "\n"
      ]
    },
    {
      "cell_type": "markdown",
      "metadata": {
        "id": "20MORYDfDtk2"
      },
      "source": [
        "## Naive Bayes model"
      ]
    },
    {
      "cell_type": "code",
      "execution_count": 39,
      "metadata": {
        "colab": {
          "base_uri": "https://localhost:8080/",
          "height": 75
        },
        "id": "0kSqAfbBD0HX",
        "outputId": "05f6dc51-c543-478c-909e-0b5bf31a593c"
      },
      "outputs": [
        {
          "data": {
            "text/html": [
              "<style>#sk-container-id-6 {color: black;background-color: white;}#sk-container-id-6 pre{padding: 0;}#sk-container-id-6 div.sk-toggleable {background-color: white;}#sk-container-id-6 label.sk-toggleable__label {cursor: pointer;display: block;width: 100%;margin-bottom: 0;padding: 0.3em;box-sizing: border-box;text-align: center;}#sk-container-id-6 label.sk-toggleable__label-arrow:before {content: \"▸\";float: left;margin-right: 0.25em;color: #696969;}#sk-container-id-6 label.sk-toggleable__label-arrow:hover:before {color: black;}#sk-container-id-6 div.sk-estimator:hover label.sk-toggleable__label-arrow:before {color: black;}#sk-container-id-6 div.sk-toggleable__content {max-height: 0;max-width: 0;overflow: hidden;text-align: left;background-color: #f0f8ff;}#sk-container-id-6 div.sk-toggleable__content pre {margin: 0.2em;color: black;border-radius: 0.25em;background-color: #f0f8ff;}#sk-container-id-6 input.sk-toggleable__control:checked~div.sk-toggleable__content {max-height: 200px;max-width: 100%;overflow: auto;}#sk-container-id-6 input.sk-toggleable__control:checked~label.sk-toggleable__label-arrow:before {content: \"▾\";}#sk-container-id-6 div.sk-estimator input.sk-toggleable__control:checked~label.sk-toggleable__label {background-color: #d4ebff;}#sk-container-id-6 div.sk-label input.sk-toggleable__control:checked~label.sk-toggleable__label {background-color: #d4ebff;}#sk-container-id-6 input.sk-hidden--visually {border: 0;clip: rect(1px 1px 1px 1px);clip: rect(1px, 1px, 1px, 1px);height: 1px;margin: -1px;overflow: hidden;padding: 0;position: absolute;width: 1px;}#sk-container-id-6 div.sk-estimator {font-family: monospace;background-color: #f0f8ff;border: 1px dotted black;border-radius: 0.25em;box-sizing: border-box;margin-bottom: 0.5em;}#sk-container-id-6 div.sk-estimator:hover {background-color: #d4ebff;}#sk-container-id-6 div.sk-parallel-item::after {content: \"\";width: 100%;border-bottom: 1px solid gray;flex-grow: 1;}#sk-container-id-6 div.sk-label:hover label.sk-toggleable__label {background-color: #d4ebff;}#sk-container-id-6 div.sk-serial::before {content: \"\";position: absolute;border-left: 1px solid gray;box-sizing: border-box;top: 0;bottom: 0;left: 50%;z-index: 0;}#sk-container-id-6 div.sk-serial {display: flex;flex-direction: column;align-items: center;background-color: white;padding-right: 0.2em;padding-left: 0.2em;position: relative;}#sk-container-id-6 div.sk-item {position: relative;z-index: 1;}#sk-container-id-6 div.sk-parallel {display: flex;align-items: stretch;justify-content: center;background-color: white;position: relative;}#sk-container-id-6 div.sk-item::before, #sk-container-id-6 div.sk-parallel-item::before {content: \"\";position: absolute;border-left: 1px solid gray;box-sizing: border-box;top: 0;bottom: 0;left: 50%;z-index: -1;}#sk-container-id-6 div.sk-parallel-item {display: flex;flex-direction: column;z-index: 1;position: relative;background-color: white;}#sk-container-id-6 div.sk-parallel-item:first-child::after {align-self: flex-end;width: 50%;}#sk-container-id-6 div.sk-parallel-item:last-child::after {align-self: flex-start;width: 50%;}#sk-container-id-6 div.sk-parallel-item:only-child::after {width: 0;}#sk-container-id-6 div.sk-dashed-wrapped {border: 1px dashed gray;margin: 0 0.4em 0.5em 0.4em;box-sizing: border-box;padding-bottom: 0.4em;background-color: white;}#sk-container-id-6 div.sk-label label {font-family: monospace;font-weight: bold;display: inline-block;line-height: 1.2em;}#sk-container-id-6 div.sk-label-container {text-align: center;}#sk-container-id-6 div.sk-container {/* jupyter's `normalize.less` sets `[hidden] { display: none; }` but bootstrap.min.css set `[hidden] { display: none !important; }` so we also need the `!important` here to be able to override the default hidden behavior on the sphinx rendered scikit-learn.org. See: https://github.com/scikit-learn/scikit-learn/issues/21755 */display: inline-block !important;position: relative;}#sk-container-id-6 div.sk-text-repr-fallback {display: none;}</style><div id=\"sk-container-id-6\" class=\"sk-top-container\"><div class=\"sk-text-repr-fallback\"><pre>GaussianNB()</pre><b>In a Jupyter environment, please rerun this cell to show the HTML representation or trust the notebook. <br />On GitHub, the HTML representation is unable to render, please try loading this page with nbviewer.org.</b></div><div class=\"sk-container\" hidden><div class=\"sk-item\"><div class=\"sk-estimator sk-toggleable\"><input class=\"sk-toggleable__control sk-hidden--visually\" id=\"sk-estimator-id-6\" type=\"checkbox\" checked><label for=\"sk-estimator-id-6\" class=\"sk-toggleable__label sk-toggleable__label-arrow\">GaussianNB</label><div class=\"sk-toggleable__content\"><pre>GaussianNB()</pre></div></div></div></div></div>"
            ],
            "text/plain": [
              "GaussianNB()"
            ]
          },
          "execution_count": 39,
          "metadata": {},
          "output_type": "execute_result"
        }
      ],
      "source": [
        "from sklearn.naive_bayes import GaussianNB\n",
        "classifier = GaussianNB()\n",
        "classifier.fit(X_train, y_train)"
      ]
    },
    {
      "cell_type": "markdown",
      "metadata": {
        "id": "DL2B9S_UD2zf"
      },
      "source": [
        "### Predicting the Test set results"
      ]
    },
    {
      "cell_type": "code",
      "execution_count": 40,
      "metadata": {
        "id": "XT-IOJ7QD5gV"
      },
      "outputs": [],
      "source": [
        "y_pred = classifier.predict(X_test)"
      ]
    },
    {
      "cell_type": "markdown",
      "metadata": {
        "id": "HwzI2_bbD70h"
      },
      "source": [
        "### Making the Confusion Matrix"
      ]
    },
    {
      "cell_type": "code",
      "execution_count": 41,
      "metadata": {
        "colab": {
          "base_uri": "https://localhost:8080/"
        },
        "id": "VQzhrfCGD_mF",
        "outputId": "7e60b122-d116-44a1-d387-18f277e9ced1"
      },
      "outputs": [
        {
          "name": "stdout",
          "output_type": "stream",
          "text": [
            "[[276   3]\n",
            " [ 31   0]]\n"
          ]
        },
        {
          "data": {
            "text/plain": [
              "0.8903225806451613"
            ]
          },
          "execution_count": 41,
          "metadata": {},
          "output_type": "execute_result"
        }
      ],
      "source": [
        "from sklearn.metrics import confusion_matrix, accuracy_score\n",
        "cm = confusion_matrix(y_test, y_pred)\n",
        "print(cm)\n",
        "accuracy_score(y_test, y_pred)"
      ]
    },
    {
      "cell_type": "markdown",
      "metadata": {
        "id": "QXFm1t9WELTZ"
      },
      "source": [
        "\n",
        "\n",
        "---\n",
        "\n"
      ]
    },
    {
      "cell_type": "markdown",
      "metadata": {
        "id": "QYlv2HgIEMdv"
      },
      "source": [
        "## Random Forest Classification"
      ]
    },
    {
      "cell_type": "code",
      "execution_count": 42,
      "metadata": {
        "colab": {
          "base_uri": "https://localhost:8080/",
          "height": 75
        },
        "id": "6OTFPEwzEP_-",
        "outputId": "9ed8ebbf-15b2-4898-90e1-93adb136f55b"
      },
      "outputs": [
        {
          "data": {
            "text/html": [
              "<style>#sk-container-id-7 {color: black;background-color: white;}#sk-container-id-7 pre{padding: 0;}#sk-container-id-7 div.sk-toggleable {background-color: white;}#sk-container-id-7 label.sk-toggleable__label {cursor: pointer;display: block;width: 100%;margin-bottom: 0;padding: 0.3em;box-sizing: border-box;text-align: center;}#sk-container-id-7 label.sk-toggleable__label-arrow:before {content: \"▸\";float: left;margin-right: 0.25em;color: #696969;}#sk-container-id-7 label.sk-toggleable__label-arrow:hover:before {color: black;}#sk-container-id-7 div.sk-estimator:hover label.sk-toggleable__label-arrow:before {color: black;}#sk-container-id-7 div.sk-toggleable__content {max-height: 0;max-width: 0;overflow: hidden;text-align: left;background-color: #f0f8ff;}#sk-container-id-7 div.sk-toggleable__content pre {margin: 0.2em;color: black;border-radius: 0.25em;background-color: #f0f8ff;}#sk-container-id-7 input.sk-toggleable__control:checked~div.sk-toggleable__content {max-height: 200px;max-width: 100%;overflow: auto;}#sk-container-id-7 input.sk-toggleable__control:checked~label.sk-toggleable__label-arrow:before {content: \"▾\";}#sk-container-id-7 div.sk-estimator input.sk-toggleable__control:checked~label.sk-toggleable__label {background-color: #d4ebff;}#sk-container-id-7 div.sk-label input.sk-toggleable__control:checked~label.sk-toggleable__label {background-color: #d4ebff;}#sk-container-id-7 input.sk-hidden--visually {border: 0;clip: rect(1px 1px 1px 1px);clip: rect(1px, 1px, 1px, 1px);height: 1px;margin: -1px;overflow: hidden;padding: 0;position: absolute;width: 1px;}#sk-container-id-7 div.sk-estimator {font-family: monospace;background-color: #f0f8ff;border: 1px dotted black;border-radius: 0.25em;box-sizing: border-box;margin-bottom: 0.5em;}#sk-container-id-7 div.sk-estimator:hover {background-color: #d4ebff;}#sk-container-id-7 div.sk-parallel-item::after {content: \"\";width: 100%;border-bottom: 1px solid gray;flex-grow: 1;}#sk-container-id-7 div.sk-label:hover label.sk-toggleable__label {background-color: #d4ebff;}#sk-container-id-7 div.sk-serial::before {content: \"\";position: absolute;border-left: 1px solid gray;box-sizing: border-box;top: 0;bottom: 0;left: 50%;z-index: 0;}#sk-container-id-7 div.sk-serial {display: flex;flex-direction: column;align-items: center;background-color: white;padding-right: 0.2em;padding-left: 0.2em;position: relative;}#sk-container-id-7 div.sk-item {position: relative;z-index: 1;}#sk-container-id-7 div.sk-parallel {display: flex;align-items: stretch;justify-content: center;background-color: white;position: relative;}#sk-container-id-7 div.sk-item::before, #sk-container-id-7 div.sk-parallel-item::before {content: \"\";position: absolute;border-left: 1px solid gray;box-sizing: border-box;top: 0;bottom: 0;left: 50%;z-index: -1;}#sk-container-id-7 div.sk-parallel-item {display: flex;flex-direction: column;z-index: 1;position: relative;background-color: white;}#sk-container-id-7 div.sk-parallel-item:first-child::after {align-self: flex-end;width: 50%;}#sk-container-id-7 div.sk-parallel-item:last-child::after {align-self: flex-start;width: 50%;}#sk-container-id-7 div.sk-parallel-item:only-child::after {width: 0;}#sk-container-id-7 div.sk-dashed-wrapped {border: 1px dashed gray;margin: 0 0.4em 0.5em 0.4em;box-sizing: border-box;padding-bottom: 0.4em;background-color: white;}#sk-container-id-7 div.sk-label label {font-family: monospace;font-weight: bold;display: inline-block;line-height: 1.2em;}#sk-container-id-7 div.sk-label-container {text-align: center;}#sk-container-id-7 div.sk-container {/* jupyter's `normalize.less` sets `[hidden] { display: none; }` but bootstrap.min.css set `[hidden] { display: none !important; }` so we also need the `!important` here to be able to override the default hidden behavior on the sphinx rendered scikit-learn.org. See: https://github.com/scikit-learn/scikit-learn/issues/21755 */display: inline-block !important;position: relative;}#sk-container-id-7 div.sk-text-repr-fallback {display: none;}</style><div id=\"sk-container-id-7\" class=\"sk-top-container\"><div class=\"sk-text-repr-fallback\"><pre>RandomForestClassifier(criterion=&#x27;entropy&#x27;, n_estimators=10, random_state=0)</pre><b>In a Jupyter environment, please rerun this cell to show the HTML representation or trust the notebook. <br />On GitHub, the HTML representation is unable to render, please try loading this page with nbviewer.org.</b></div><div class=\"sk-container\" hidden><div class=\"sk-item\"><div class=\"sk-estimator sk-toggleable\"><input class=\"sk-toggleable__control sk-hidden--visually\" id=\"sk-estimator-id-7\" type=\"checkbox\" checked><label for=\"sk-estimator-id-7\" class=\"sk-toggleable__label sk-toggleable__label-arrow\">RandomForestClassifier</label><div class=\"sk-toggleable__content\"><pre>RandomForestClassifier(criterion=&#x27;entropy&#x27;, n_estimators=10, random_state=0)</pre></div></div></div></div></div>"
            ],
            "text/plain": [
              "RandomForestClassifier(criterion='entropy', n_estimators=10, random_state=0)"
            ]
          },
          "execution_count": 42,
          "metadata": {},
          "output_type": "execute_result"
        }
      ],
      "source": [
        "from sklearn.ensemble import RandomForestClassifier\n",
        "classifier = RandomForestClassifier(n_estimators = 10, criterion = 'entropy', random_state = 0)\n",
        "classifier.fit(X_train, y_train)"
      ]
    },
    {
      "cell_type": "markdown",
      "metadata": {
        "id": "STFYzmUtEVym"
      },
      "source": [
        "### Predicting the Test set results"
      ]
    },
    {
      "cell_type": "code",
      "execution_count": 43,
      "metadata": {
        "id": "p5B3AeejEZCF"
      },
      "outputs": [],
      "source": [
        "y_pred = classifier.predict(X_test)\n"
      ]
    },
    {
      "cell_type": "markdown",
      "metadata": {
        "id": "jYtxKhD2EarK"
      },
      "source": [
        "### Making the Confusion Matrix"
      ]
    },
    {
      "cell_type": "code",
      "execution_count": 44,
      "metadata": {
        "colab": {
          "base_uri": "https://localhost:8080/"
        },
        "id": "EY0WCrabEdrA",
        "outputId": "82a3ba86-ed84-4c73-c8a6-579dfb1611f9"
      },
      "outputs": [
        {
          "name": "stdout",
          "output_type": "stream",
          "text": [
            "[[276   3]\n",
            " [ 21  10]]\n"
          ]
        },
        {
          "data": {
            "text/plain": [
              "0.9225806451612903"
            ]
          },
          "execution_count": 44,
          "metadata": {},
          "output_type": "execute_result"
        }
      ],
      "source": [
        "from sklearn.metrics import confusion_matrix, accuracy_score\n",
        "cm = confusion_matrix(y_test, y_pred)\n",
        "print(cm)\n",
        "accuracy_score(y_test, y_pred)"
      ]
    },
    {
      "cell_type": "markdown",
      "metadata": {
        "id": "cp5G47KIE4aD"
      },
      "source": [
        "\n",
        "\n",
        "---\n",
        "\n"
      ]
    },
    {
      "cell_type": "markdown",
      "metadata": {
        "id": "jn9LNKj5E8Dm"
      },
      "source": [
        "\n",
        "\n",
        "---\n",
        "\n"
      ]
    },
    {
      "cell_type": "markdown",
      "metadata": {
        "id": "3hfjngvwsib7"
      },
      "source": []
    }
  ],
  "metadata": {
    "colab": {
      "provenance": [],
      "toc_visible": true
    },
    "kernelspec": {
      "display_name": "Python 3",
      "name": "python3"
    },
    "language_info": {
      "name": "python"
    }
  },
  "nbformat": 4,
  "nbformat_minor": 0
}
